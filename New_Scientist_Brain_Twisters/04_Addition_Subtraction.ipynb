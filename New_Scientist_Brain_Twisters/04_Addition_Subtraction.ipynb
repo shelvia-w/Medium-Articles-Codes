{
 "cells": [
  {
   "cell_type": "markdown",
   "metadata": {},
   "source": [
    "### Addition Subtraction\n",
    "\n",
    "It is true that: 1 + 2 + 3 = 3 + 2 + 1, and the equation remains true if you remove two of the plus symbols: 1 + 23 = 3 + 21."
   ]
  },
  {
   "cell_type": "code",
   "execution_count": 1,
   "metadata": {},
   "outputs": [],
   "source": [
    "import itertools"
   ]
  },
  {
   "cell_type": "code",
   "execution_count": 5,
   "metadata": {},
   "outputs": [],
   "source": [
    "def find_expression(str_exp, ops_to_remove):\n",
    "    str_exp = str_exp.replace(\" \", \"\")\n",
    "    n_ops = str_exp.count('+')          # total number of '+' operators\n",
    "    exp_1, exp_2 = str_exp.split('=')   # split the left-hand side and right-hand side of equation\n",
    "\n",
    "    for i in list(itertools.combinations(range(n_ops), ops_to_remove)):\n",
    "        new_exp_1 = ''\n",
    "        new_exp_2 = ''\n",
    "\n",
    "        idx_1 = [x for x in list(i) if x < n_ops/2]\n",
    "        idx_2 = [int(x-n_ops/2) for x in list(i) if x >= n_ops/2]   # re-index the right-side expression\n",
    "\n",
    "        # Find the new left-side expression after removal of operators\n",
    "        if idx_1 == []:\n",
    "            new_exp_1 = exp_1\n",
    "        else:\n",
    "            for k, n in enumerate(range(len(idx_1))):\n",
    "                if k == 0:\n",
    "                    new_exp_1 += exp_1[:idx_1[n]*2+1]\n",
    "                else:\n",
    "                    new_exp_1 += exp_1[idx_1[n-1]*2+2:idx_1[n]*2+1]\n",
    "            new_exp_1 += exp_1[idx_1[n]*2+2:]\n",
    "        \n",
    "        # Find the new right-side expression after removal of operators\n",
    "        if idx_2 == []:\n",
    "            new_exp_2 = exp_2\n",
    "        else:\n",
    "            for k, n in enumerate(range(len(idx_2))):\n",
    "                if k == 0:\n",
    "                    new_exp_2 += exp_2[:idx_2[n]*2+1]\n",
    "                else:\n",
    "                    new_exp_2 += exp_2[idx_2[n-1]*2+2:idx_2[n]*2+1]\n",
    "            new_exp_2 += exp_2[idx_2[n]*2+2:]\n",
    "\n",
    "        num_1 = sum(list(map(int, new_exp_1.split('+'))))   # compute the sum of the left expression\n",
    "        num_2 = sum(list(map(int, new_exp_2.split('+'))))   # compute the sum of the right expression\n",
    "\n",
    "        # check if they are the same\n",
    "        if num_1 == num_2:\n",
    "            final_str = new_exp_1+' = '+new_exp_2\n",
    "            print(final_str.replace(\"+\", \" + \"))"
   ]
  },
  {
   "cell_type": "markdown",
   "metadata": {},
   "source": [
    "(1) Starting from the equation: 1 + 2 + 3 + 4 = 4 + 3 + 2 + 1, delete three of the plus symbols so the equation is still true."
   ]
  },
  {
   "cell_type": "code",
   "execution_count": 6,
   "metadata": {},
   "outputs": [
    {
     "name": "stdout",
     "output_type": "stream",
     "text": [
      "12 + 34 = 43 + 2 + 1\n"
     ]
    }
   ],
   "source": [
    "str_exp = '1 + 2 + 3 + 4 = 4 + 3 + 2 + 1'\n",
    "ops_to_remove = 3\n",
    "\n",
    "find_expression(str_exp, ops_to_remove)"
   ]
  },
  {
   "cell_type": "markdown",
   "metadata": {},
   "source": [
    "(2) Can you find a way to do the same for: 1 + 2 + 3 + 4 + 5 = 5 + 4 + 3 + 2 + 1, but this time by removing a different set of three pluses than you did in the previous case?"
   ]
  },
  {
   "cell_type": "code",
   "execution_count": 7,
   "metadata": {},
   "outputs": [
    {
     "name": "stdout",
     "output_type": "stream",
     "text": [
      "12 + 34 + 5 = 5 + 43 + 2 + 1\n",
      "12 + 3 + 45 = 54 + 3 + 2 + 1\n"
     ]
    }
   ],
   "source": [
    "str_exp = '1 + 2 + 3 + 4 + 5 = 5 + 4 + 3 + 2 + 1'\n",
    "ops_to_remove = 3\n",
    "\n",
    "find_expression(str_exp, ops_to_remove)"
   ]
  },
  {
   "cell_type": "markdown",
   "metadata": {},
   "source": [
    "The answer is the second equation, as the first equation is obtained by removing the same set of three pluses as in the previous case."
   ]
  }
 ],
 "metadata": {
  "kernelspec": {
   "display_name": "ml_projects",
   "language": "python",
   "name": "python3"
  },
  "language_info": {
   "codemirror_mode": {
    "name": "ipython",
    "version": 3
   },
   "file_extension": ".py",
   "mimetype": "text/x-python",
   "name": "python",
   "nbconvert_exporter": "python",
   "pygments_lexer": "ipython3",
   "version": "3.9.0"
  }
 },
 "nbformat": 4,
 "nbformat_minor": 2
}
