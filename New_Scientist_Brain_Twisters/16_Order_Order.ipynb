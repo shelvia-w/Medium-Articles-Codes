{
 "cells": [
  {
   "cell_type": "markdown",
   "metadata": {},
   "source": [
    "### Order, Order!"
   ]
  },
  {
   "cell_type": "markdown",
   "metadata": {},
   "source": [
    "(1) Arrange the digits 1–9 in a line so that each pair of adjacent digits differs by either 2 or 3."
   ]
  },
  {
   "cell_type": "code",
   "execution_count": 54,
   "metadata": {},
   "outputs": [
    {
     "name": "stdout",
     "output_type": "stream",
     "text": [
      "Number of possible arrangements: 30\n",
      "Examples:\n",
      "[1, 3, 5, 2, 4, 7, 9, 6, 8]\n",
      "[1, 3, 5, 8, 6, 9, 7, 4, 2]\n",
      "[1, 3, 6, 8, 5, 2, 4, 7, 9]\n",
      "[1, 3, 6, 9, 7, 4, 2, 5, 8]\n",
      "[2, 4, 1, 3, 5, 7, 9, 6, 8]\n"
     ]
    }
   ],
   "source": [
    "def is_valid(arrangement):\n",
    "    for i in range(len(arrangement) - 1):\n",
    "        if abs(arrangement[i] - arrangement[i + 1]) not in [2, 3]:\n",
    "            return False\n",
    "    return True\n",
    "\n",
    "def find_arrangements(arrangement, visited, result):\n",
    "    if len(arrangement) == 9:\n",
    "        if is_valid(arrangement):\n",
    "            result.append(arrangement.copy())\n",
    "        return\n",
    "    \n",
    "    for i in range(1, 10):\n",
    "        if not visited[i]:\n",
    "            if len(arrangement) == 0 or abs(arrangement[-1] - i) in [2, 3]:\n",
    "                arrangement.append(i)\n",
    "                visited[i] = True\n",
    "                find_arrangements(arrangement, visited, result)\n",
    "                arrangement.pop()\n",
    "                visited[i] = False\n",
    "\n",
    "\n",
    "result = []\n",
    "arrangement = []\n",
    "visited = [False] * 10\n",
    "find_arrangements(arrangement, visited, result)\n",
    "print(f'Number of possible arrangements: {len(result)}')\n",
    "print('Examples:')\n",
    "for i in range(5):\n",
    "    print(result[i])"
   ]
  },
  {
   "cell_type": "markdown",
   "metadata": {},
   "source": [
    "(2) Arrange the digits 1–9 in a line so that each pair of adjacent digits sums to a prime number."
   ]
  },
  {
   "cell_type": "code",
   "execution_count": 38,
   "metadata": {},
   "outputs": [
    {
     "name": "stdout",
     "output_type": "stream",
     "text": [
      "Number of possible arrangements: 140\n",
      "Examples:\n",
      "[1, 2, 3, 4, 7, 6, 5, 8, 9]\n",
      "[1, 2, 3, 4, 9, 8, 5, 6, 7]\n",
      "[1, 2, 3, 8, 5, 6, 7, 4, 9]\n",
      "[1, 2, 3, 8, 9, 4, 7, 6, 5]\n",
      "[1, 2, 5, 6, 7, 4, 3, 8, 9]\n"
     ]
    }
   ],
   "source": [
    "def is_prime(num):\n",
    "    for i in range(2, int(num//2) + 1):\n",
    "        if (num % i) == 0:\n",
    "            return False\n",
    "    return True\n",
    "\n",
    "def is_valid(arrangement):\n",
    "    for i in range(len(arrangement) - 1):\n",
    "        if not is_prime(arrangement[i] + arrangement[i + 1]):\n",
    "            return False\n",
    "    return True\n",
    "\n",
    "def find_arrangements(arrangement, visited, result):\n",
    "    if len(arrangement) == 9:\n",
    "        if is_valid(arrangement):\n",
    "            result.append(arrangement.copy())\n",
    "        return\n",
    "    \n",
    "    for i in range(1, 10):\n",
    "        if not visited[i]:\n",
    "            if len(arrangement) == 0 or is_prime(arrangement[-1] + i):\n",
    "                arrangement.append(i)\n",
    "                visited[i] = True\n",
    "                find_arrangements(arrangement, visited, result)\n",
    "                arrangement.pop()\n",
    "                visited[i] = False\n",
    "\n",
    "\n",
    "result = []\n",
    "arrangement = []\n",
    "visited = [False] * 10\n",
    "find_arrangements(arrangement, visited, result)\n",
    "print(f'Number of possible arrangements: {len(result)}')\n",
    "print('Examples:')\n",
    "for i in range(5):\n",
    "    print(result[i])"
   ]
  },
  {
   "cell_type": "markdown",
   "metadata": {},
   "source": [
    "(3) Now arrange the digits 1–9 in a line so that each pair of adjacent digits (when read as a two-digit number) appears in the times tables from 1 × 1 up to 9 × 9."
   ]
  },
  {
   "cell_type": "code",
   "execution_count": 48,
   "metadata": {},
   "outputs": [
    {
     "name": "stdout",
     "output_type": "stream",
     "text": [
      "Number of possible arrangements: 1\n",
      "Arrangement: [7, 2, 8, 1, 6, 3, 5, 4, 9]\n"
     ]
    }
   ],
   "source": [
    "times_table = []\n",
    "for i in range(1,10):\n",
    "    for j in range(1,10):\n",
    "        if i*j not in times_table and i*j >= 10 and i*j % 10 != 0:\n",
    "            times_table.append(i*j)\n",
    "\n",
    "def is_valid(arrangement):\n",
    "    for i in range(len(arrangement) - 1):\n",
    "        if int(str(arrangement[i]) + str(arrangement[i + 1])) not in times_table:\n",
    "            return False\n",
    "    return True\n",
    "\n",
    "def find_arrangements(arrangement, visited, result):\n",
    "    if len(arrangement) == 9:\n",
    "        if is_valid(arrangement):\n",
    "            result.append(arrangement.copy())\n",
    "        return\n",
    "    \n",
    "    for i in range(1, 10):\n",
    "        if not visited[i]:\n",
    "            if len(arrangement) == 0 or int(str(arrangement[-1]) + str(i)) in times_table:\n",
    "                arrangement.append(i)\n",
    "                visited[i] = True\n",
    "                find_arrangements(arrangement, visited, result)\n",
    "                arrangement.pop()\n",
    "                visited[i] = False\n",
    "\n",
    "result = []\n",
    "arrangement = []\n",
    "visited = [False] * 10\n",
    "find_arrangements(arrangement, visited, result)\n",
    "print(f'Number of possible arrangements: {len(result)}')\n",
    "print(f'Arrangement: {result[0]}')"
   ]
  }
 ],
 "metadata": {
  "kernelspec": {
   "display_name": "ml_projects",
   "language": "python",
   "name": "python3"
  },
  "language_info": {
   "codemirror_mode": {
    "name": "ipython",
    "version": 3
   },
   "file_extension": ".py",
   "mimetype": "text/x-python",
   "name": "python",
   "nbconvert_exporter": "python",
   "pygments_lexer": "ipython3",
   "version": "3.9.0"
  }
 },
 "nbformat": 4,
 "nbformat_minor": 2
}
