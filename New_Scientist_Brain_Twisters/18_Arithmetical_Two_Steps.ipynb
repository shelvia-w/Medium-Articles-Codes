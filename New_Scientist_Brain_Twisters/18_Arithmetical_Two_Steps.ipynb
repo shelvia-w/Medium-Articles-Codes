{
 "cells": [
  {
   "cell_type": "markdown",
   "metadata": {},
   "source": [
    "### Arithmetical Two Steps"
   ]
  },
  {
   "cell_type": "markdown",
   "metadata": {},
   "source": [
    "You must take two steps to get from a given number to make 10. Each step must change the number by adding, subtracting, multiplying by or dividing by a number from 1 to 9. (Multiplying or dividing by 1 isn't allowed as it doesn't change the number).\n",
    "For example, starting with 35, one way would be to first divide by 7 then add 5."
   ]
  },
  {
   "cell_type": "code",
   "execution_count": 32,
   "metadata": {},
   "outputs": [],
   "source": [
    "def arithmetical_two_steps(start, target, print_step=True):\n",
    "    operations = ['+', '-', '*', '/']\n",
    "    numbers = range(1, 10)\n",
    "\n",
    "    for op1 in operations:\n",
    "        for num1 in numbers:\n",
    "            if op1 == '+':\n",
    "                first_step = start + num1\n",
    "            elif op1 == '-':\n",
    "                first_step = start - num1\n",
    "            elif op1 == '*' and num1 != 1:\n",
    "                first_step = start * num1\n",
    "            elif op1 == '/' and num1 not in [0,1]:\n",
    "                first_step = start / num1\n",
    "            else:\n",
    "                continue\n",
    "\n",
    "            for op2 in operations:\n",
    "                for num2 in numbers:\n",
    "                    if op2 == '+':\n",
    "                        second_step = first_step + num2\n",
    "                    elif op2 == '-':\n",
    "                        second_step = first_step - num2\n",
    "                    elif op2 == '*' and num2 != 1:\n",
    "                        second_step = first_step * num2\n",
    "                    elif op2 == '/' and num2 not in [0,1]:\n",
    "                        second_step = first_step / num2\n",
    "                    else:\n",
    "                        continue\n",
    "\n",
    "                    if second_step == target:\n",
    "                        if print_step:\n",
    "                            print(f\"{start} --> ({start} {op1} {num1}) = {int(first_step)}, ({first_step} {op2} {num2}) = {int(second_step)}\")\n",
    "                        return True\n",
    "    return False"
   ]
  },
  {
   "cell_type": "markdown",
   "metadata": {},
   "source": [
    "(1) Can you take two steps to get from 42 to 10?"
   ]
  },
  {
   "cell_type": "code",
   "execution_count": 33,
   "metadata": {},
   "outputs": [
    {
     "name": "stdout",
     "output_type": "stream",
     "text": [
      "42 --> (42 + 8) = 50, (50 / 5) = 10\n"
     ]
    }
   ],
   "source": [
    "start = 42\n",
    "target = 10\n",
    "result = arithmetical_two_steps(start, target)\n",
    "if not result:\n",
    "    print(f\"It is not possible for {start} to reach 10 in two steps.\")"
   ]
  },
  {
   "cell_type": "markdown",
   "metadata": {},
   "source": [
    "(2) Is it possible to get to 10 in two steps from all the numbers 11 to 30?"
   ]
  },
  {
   "cell_type": "code",
   "execution_count": 34,
   "metadata": {},
   "outputs": [
    {
     "name": "stdout",
     "output_type": "stream",
     "text": [
      "11 --> (11 + 1) = 12, (12 - 2) = 10\n",
      "12 --> (12 + 1) = 13, (13 - 3) = 10\n",
      "13 --> (13 + 1) = 14, (14 - 4) = 10\n",
      "14 --> (14 + 1) = 15, (15 - 5) = 10\n",
      "15 --> (15 + 1) = 16, (16 - 6) = 10\n",
      "16 --> (16 + 1) = 17, (17 - 7) = 10\n",
      "17 --> (17 + 1) = 18, (18 - 8) = 10\n",
      "18 --> (18 + 1) = 19, (19 - 9) = 10\n",
      "19 --> (19 + 1) = 20, (20 / 2) = 10\n",
      "20 --> (20 - 1) = 19, (19 - 9) = 10\n",
      "21 --> (21 + 9) = 30, (30 / 3) = 10\n",
      "22 --> (22 + 8) = 30, (30 / 3) = 10\n",
      "23 --> (23 + 7) = 30, (30 / 3) = 10\n",
      "24 --> (24 + 6) = 30, (30 / 3) = 10\n",
      "25 --> (25 + 5) = 30, (30 / 3) = 10\n",
      "26 --> (26 + 4) = 30, (30 / 3) = 10\n",
      "27 --> (27 + 3) = 30, (30 / 3) = 10\n",
      "28 --> (28 + 2) = 30, (30 / 3) = 10\n",
      "29 --> (29 + 1) = 30, (30 / 3) = 10\n",
      "30 --> (30 * 2) = 60, (60 / 6) = 10\n"
     ]
    }
   ],
   "source": [
    "for start in range(11,31):\n",
    "    target = 10\n",
    "    result = arithmetical_two_steps(start, target)\n",
    "    if not result:\n",
    "        print(f\"It is not possible for {start} to reach 10 in two steps.\")"
   ]
  },
  {
   "cell_type": "markdown",
   "metadata": {},
   "source": [
    "(3) And can you find a two-digit number for which there is no way to get to 10 in two steps?"
   ]
  },
  {
   "cell_type": "code",
   "execution_count": 35,
   "metadata": {},
   "outputs": [
    {
     "name": "stdout",
     "output_type": "stream",
     "text": [
      "It is not possible for 50 to reach 10 in two steps.\n"
     ]
    }
   ],
   "source": [
    "for start in range(31,100):\n",
    "    target = 10\n",
    "    result = arithmetical_two_steps(start, target, print_step=False)\n",
    "    if not result:\n",
    "        print(f\"It is not possible for {start} to reach 10 in two steps.\")"
   ]
  }
 ],
 "metadata": {
  "kernelspec": {
   "display_name": "ml_projects",
   "language": "python",
   "name": "python3"
  },
  "language_info": {
   "codemirror_mode": {
    "name": "ipython",
    "version": 3
   },
   "file_extension": ".py",
   "mimetype": "text/x-python",
   "name": "python",
   "nbconvert_exporter": "python",
   "pygments_lexer": "ipython3",
   "version": "3.9.0"
  }
 },
 "nbformat": 4,
 "nbformat_minor": 2
}
