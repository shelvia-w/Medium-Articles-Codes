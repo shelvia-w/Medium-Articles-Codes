{
 "cells": [
  {
   "cell_type": "markdown",
   "metadata": {},
   "source": [
    "### Two Cubes"
   ]
  },
  {
   "cell_type": "code",
   "execution_count": 9,
   "metadata": {},
   "outputs": [],
   "source": [
    "from itertools import combinations"
   ]
  },
  {
   "cell_type": "markdown",
   "metadata": {},
   "source": [
    "A frame is made from two cubes joined together. All edges on each of the cubes measure 1 unit."
   ]
  },
  {
   "cell_type": "code",
   "execution_count": 1,
   "metadata": {},
   "outputs": [],
   "source": [
    "coords = [(0, 0, 0), (1, 0, 0), (2, 0, 0),\n",
    "          (0, 1, 0), (1, 1, 0), (2, 1, 0),\n",
    "          (0, 0, 1), (1, 0, 1), (2, 0, 1),\n",
    "          (0, 1, 1), (1, 1, 1), (2, 1, 1),]"
   ]
  },
  {
   "cell_type": "code",
   "execution_count": 5,
   "metadata": {},
   "outputs": [],
   "source": [
    "def square_distance(p1, p2):\n",
    "    return sum((v1 - v2)**2 for (v1, v2) in zip(p1, p2))"
   ]
  },
  {
   "cell_type": "markdown",
   "metadata": {},
   "source": [
    "(1) What is the distance between the two points on the frame marked with red dots?"
   ]
  },
  {
   "cell_type": "code",
   "execution_count": 7,
   "metadata": {},
   "outputs": [
    {
     "name": "stdout",
     "output_type": "stream",
     "text": [
      "The distance between the two points on the frame marked with red dots is sqrt(2).\n"
     ]
    }
   ],
   "source": [
    "sq_dist = square_distance((2, 1, 0), (2, 0, 1))\n",
    "print(f\"The distance between the two points on the frame marked with red dots is sqrt({sq_dist}).\")"
   ]
  },
  {
   "cell_type": "markdown",
   "metadata": {},
   "source": [
    "(2) Can you find another pair of points on the frame, one for which the distance apart is the square root of 3?"
   ]
  },
  {
   "cell_type": "code",
   "execution_count": 23,
   "metadata": {},
   "outputs": [
    {
     "name": "stdout",
     "output_type": "stream",
     "text": [
      "Pairs of points with sqrt(3) distance apart:\n",
      "(0, 0, 0) (1, 1, 1)\n",
      "(1, 0, 0) (0, 1, 1)\n",
      "(1, 0, 0) (2, 1, 1)\n",
      "(2, 0, 0) (1, 1, 1)\n",
      "(0, 1, 0) (1, 0, 1)\n",
      "(1, 1, 0) (0, 0, 1)\n",
      "(1, 1, 0) (2, 0, 1)\n",
      "(2, 1, 0) (1, 0, 1)\n"
     ]
    }
   ],
   "source": [
    "print(\"Pairs of points with sqrt(3) distance apart:\")\n",
    "for p1, p2 in list(combinations(coords, 2)):\n",
    "    if square_distance(p1,p2) == 3:\n",
    "        print(p1,p2)"
   ]
  },
  {
   "cell_type": "markdown",
   "metadata": {},
   "source": [
    "(3) For how many whole number values of n can you find pairs of points on the frame whose distance is the square root of n?"
   ]
  },
  {
   "cell_type": "code",
   "execution_count": 29,
   "metadata": {},
   "outputs": [
    {
     "name": "stdout",
     "output_type": "stream",
     "text": [
      "Found pair with sqrt(1) distance apart: ((0, 0, 0), (1, 0, 0))\n",
      "Found pair with sqrt(2) distance apart: ((0, 0, 0), (1, 1, 0))\n",
      "Found pair with sqrt(3) distance apart: ((0, 0, 0), (1, 1, 1))\n",
      "Found pair with sqrt(4) distance apart: ((0, 0, 0), (2, 0, 0))\n",
      "Found pair with sqrt(5) distance apart: ((0, 0, 0), (2, 1, 0))\n",
      "Found pair with sqrt(6) distance apart: ((0, 0, 0), (2, 1, 1))\n",
      "Cannot find pair with sqrt(7) distance apart.\n"
     ]
    }
   ],
   "source": [
    "found = True\n",
    "n = 1\n",
    "while found:\n",
    "    for p1, p2 in list(combinations(coords, 2)):\n",
    "        if square_distance(p1,p2) == n:\n",
    "            print(f\"Found pair with sqrt({n}) distance apart: {p1,p2}\")\n",
    "            n += 1\n",
    "            found = True\n",
    "            break\n",
    "        else:\n",
    "            found = False\n",
    "\n",
    "print(f\"Cannot find pair with sqrt({n}) distance apart.\")\n",
    "\n",
    "        "
   ]
  },
  {
   "cell_type": "code",
   "execution_count": null,
   "metadata": {},
   "outputs": [],
   "source": []
  }
 ],
 "metadata": {
  "kernelspec": {
   "display_name": "ml_projects",
   "language": "python",
   "name": "python3"
  },
  "language_info": {
   "codemirror_mode": {
    "name": "ipython",
    "version": 3
   },
   "file_extension": ".py",
   "mimetype": "text/x-python",
   "name": "python",
   "nbconvert_exporter": "python",
   "pygments_lexer": "ipython3",
   "version": "3.9.0"
  }
 },
 "nbformat": 4,
 "nbformat_minor": 2
}
