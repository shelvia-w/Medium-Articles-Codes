{
 "cells": [
  {
   "cell_type": "markdown",
   "metadata": {},
   "source": [
    "### Factorial Factory"
   ]
  },
  {
   "cell_type": "markdown",
   "metadata": {},
   "source": [
    "Mathematicians write 9! to represent the number \"9 factorial\", which means 9 × 8 × 7 × 6 × 5 × 4 × 3 × 2 × 1 = 362,880."
   ]
  },
  {
   "cell_type": "code",
   "execution_count": 1,
   "metadata": {},
   "outputs": [],
   "source": [
    "import math"
   ]
  },
  {
   "cell_type": "markdown",
   "metadata": {},
   "source": [
    "(1) How many zeros will 10! end with?"
   ]
  },
  {
   "cell_type": "code",
   "execution_count": 16,
   "metadata": {},
   "outputs": [
    {
     "name": "stdout",
     "output_type": "stream",
     "text": [
      "10! will end with 2 zeros.\n",
      "10! will end with 2 zeros.\n"
     ]
    }
   ],
   "source": [
    "# First method:\n",
    "num = str(math.factorial(10))\n",
    "trailing_zeros = len(num) - len(num.rstrip('0'))\n",
    "print(f'10! will end with {trailing_zeros} zeros.')\n",
    "\n",
    "# Second method:\n",
    "n = 10\n",
    "trailing_zeros = 0\n",
    "i = 1\n",
    "while 5**i <= n:\n",
    "    trailing_zeros += n//(5**i)\n",
    "    i += 1\n",
    "print(f'10! will end with {trailing_zeros} zeros.')\n",
    "    "
   ]
  },
  {
   "cell_type": "markdown",
   "metadata": {},
   "source": [
    "(2) How many zeros will 25! have at the end? (Careful, the answer isn't five.)"
   ]
  },
  {
   "cell_type": "code",
   "execution_count": 19,
   "metadata": {},
   "outputs": [
    {
     "name": "stdout",
     "output_type": "stream",
     "text": [
      "25! will end with 6 zeros.\n",
      "25! will end with 6 zeros.\n"
     ]
    }
   ],
   "source": [
    "# First method:\n",
    "num = str(math.factorial(25))\n",
    "trailing_zeros = len(num) - len(num.rstrip('0'))\n",
    "print(f'25! will end with {trailing_zeros} zeros.')\n",
    "\n",
    "# Second method:\n",
    "n = 25\n",
    "trailing_zeros = 0\n",
    "i = 1\n",
    "while 5**i <= n:\n",
    "    trailing_zeros += n//(5**i)\n",
    "    i += 1\n",
    "print(f'25! will end with {trailing_zeros} zeros.')"
   ]
  },
  {
   "cell_type": "markdown",
   "metadata": {},
   "source": [
    "(3) How many zeros will 1066! finish with?"
   ]
  },
  {
   "cell_type": "code",
   "execution_count": 20,
   "metadata": {},
   "outputs": [
    {
     "name": "stdout",
     "output_type": "stream",
     "text": [
      "1066! will end with 264 zeros.\n",
      "1066! will end with 264 zeros.\n"
     ]
    }
   ],
   "source": [
    "# First method:\n",
    "num = str(math.factorial(1066))\n",
    "trailing_zeros = len(num) - len(num.rstrip('0'))\n",
    "print(f'1066! will end with {trailing_zeros} zeros.')\n",
    "\n",
    "# Second method:\n",
    "n = 1066\n",
    "trailing_zeros = 0\n",
    "i = 1\n",
    "while 5**i <= n:\n",
    "    trailing_zeros += n//(5**i)\n",
    "    i += 1\n",
    "print(f'1066! will end with {trailing_zeros} zeros.')"
   ]
  }
 ],
 "metadata": {
  "kernelspec": {
   "display_name": "ml_projects",
   "language": "python",
   "name": "python3"
  },
  "language_info": {
   "codemirror_mode": {
    "name": "ipython",
    "version": 3
   },
   "file_extension": ".py",
   "mimetype": "text/x-python",
   "name": "python",
   "nbconvert_exporter": "python",
   "pygments_lexer": "ipython3",
   "version": "3.9.0"
  }
 },
 "nbformat": 4,
 "nbformat_minor": 2
}
