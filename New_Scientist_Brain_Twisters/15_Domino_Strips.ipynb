{
 "cells": [
  {
   "cell_type": "markdown",
   "metadata": {},
   "source": [
    "### Domino Strips"
   ]
  },
  {
   "cell_type": "code",
   "execution_count": 1,
   "metadata": {},
   "outputs": [],
   "source": [
    "import numpy as np"
   ]
  },
  {
   "cell_type": "markdown",
   "metadata": {},
   "source": [
    "There are three ways to cover a 3 × 2 grid with dominoes."
   ]
  },
  {
   "cell_type": "code",
   "execution_count": 2,
   "metadata": {},
   "outputs": [],
   "source": [
    "def cover_grids(n, domino, i):\n",
    "    if 0 in domino:\n",
    "        j = np.where(domino == 0)\n",
    "        if len(j[0]) > 0:  # Check if there are any remaining zeros\n",
    "            j = (j[0][0], j[1][0])  # Take the first zero position\n",
    "            if (j[1] + 1) % n != 0 and domino[j[0], j[1] + 1] == 0: # Check if can place horizontally\n",
    "                new_domino = np.copy(domino)\n",
    "                new_domino[j[0], j[1]] = i\n",
    "                new_domino[j[0], j[1] + 1] = i\n",
    "                yield from cover_grids(n, new_domino, i + 1)\n",
    "            if j[0] == 0 and domino[1, j[1]] == 0:  # Check if can place vertically\n",
    "                new_domino = np.copy(domino) \n",
    "                new_domino[j[0], j[1]] = i\n",
    "                new_domino[j[0] + 1, j[1]] = i\n",
    "                yield from cover_grids(n, new_domino, i + 1)\n",
    "    else:\n",
    "        yield domino"
   ]
  },
  {
   "cell_type": "markdown",
   "metadata": {},
   "source": [
    "(1) How many ways are there to cover a 4 × 2 grid?"
   ]
  },
  {
   "cell_type": "code",
   "execution_count": 3,
   "metadata": {},
   "outputs": [
    {
     "name": "stdout",
     "output_type": "stream",
     "text": [
      "Arrangement 1:\n",
      "[1. 1. 2. 2.]\n",
      "[3. 3. 4. 4.]\n",
      "Arrangement 2:\n",
      "[1. 1. 2. 3.]\n",
      "[4. 4. 2. 3.]\n",
      "Arrangement 3:\n",
      "[1. 2. 2. 3.]\n",
      "[1. 4. 4. 3.]\n",
      "Arrangement 4:\n",
      "[1. 2. 3. 3.]\n",
      "[1. 2. 4. 4.]\n",
      "Arrangement 5:\n",
      "[1. 2. 3. 4.]\n",
      "[1. 2. 3. 4.]\n",
      "There are 5 ways to cover a 4 x 2 grid.\n"
     ]
    }
   ],
   "source": [
    "t = 0\n",
    "n = 4\n",
    "domino = np.zeros((2, n))\n",
    "for arr in cover_grids(n, domino, 1):\n",
    "    t += 1\n",
    "    print(f\"Arrangement {t}:\")\n",
    "    print(arr[0])\n",
    "    print(arr[1])\n",
    "print(f\"There are {t} ways to cover a {n} x 2 grid.\")"
   ]
  },
  {
   "cell_type": "markdown",
   "metadata": {},
   "source": [
    "(2) What about a 6 × 2 grid?"
   ]
  },
  {
   "cell_type": "code",
   "execution_count": 4,
   "metadata": {},
   "outputs": [
    {
     "name": "stdout",
     "output_type": "stream",
     "text": [
      "Arrangement 1:\n",
      "[1. 1. 2. 2. 3. 3.]\n",
      "[4. 4. 5. 5. 6. 6.]\n",
      "Arrangement 2:\n",
      "[1. 1. 2. 2. 3. 4.]\n",
      "[5. 5. 6. 6. 3. 4.]\n",
      "Arrangement 3:\n",
      "[1. 1. 2. 3. 3. 4.]\n",
      "[5. 5. 2. 6. 6. 4.]\n",
      "Arrangement 4:\n",
      "[1. 1. 2. 3. 4. 4.]\n",
      "[5. 5. 2. 3. 6. 6.]\n",
      "Arrangement 5:\n",
      "[1. 1. 2. 3. 4. 5.]\n",
      "[6. 6. 2. 3. 4. 5.]\n",
      "Arrangement 6:\n",
      "[1. 2. 2. 3. 3. 4.]\n",
      "[1. 5. 5. 6. 6. 4.]\n",
      "Arrangement 7:\n",
      "[1. 2. 2. 3. 4. 4.]\n",
      "[1. 5. 5. 3. 6. 6.]\n",
      "Arrangement 8:\n",
      "[1. 2. 2. 3. 4. 5.]\n",
      "[1. 6. 6. 3. 4. 5.]\n",
      "Arrangement 9:\n",
      "[1. 2. 3. 3. 4. 4.]\n",
      "[1. 2. 5. 5. 6. 6.]\n",
      "Arrangement 10:\n",
      "[1. 2. 3. 3. 4. 5.]\n",
      "[1. 2. 6. 6. 4. 5.]\n",
      "Arrangement 11:\n",
      "[1. 2. 3. 4. 4. 5.]\n",
      "[1. 2. 3. 6. 6. 5.]\n",
      "Arrangement 12:\n",
      "[1. 2. 3. 4. 5. 5.]\n",
      "[1. 2. 3. 4. 6. 6.]\n",
      "Arrangement 13:\n",
      "[1. 2. 3. 4. 5. 6.]\n",
      "[1. 2. 3. 4. 5. 6.]\n",
      "There are 13 ways to cover a 6 x 2 grid.\n"
     ]
    }
   ],
   "source": [
    "t = 0\n",
    "n = 6\n",
    "domino = np.zeros((2, n))\n",
    "for arr in cover_grids(n, domino, 1):\n",
    "    t += 1\n",
    "    print(f\"Arrangement {t}:\")\n",
    "    print(arr[0])\n",
    "    print(arr[1])\n",
    "print(f\"There are {t} ways to cover a {n} x 2 grid.\")"
   ]
  },
  {
   "cell_type": "markdown",
   "metadata": {},
   "source": [
    "(3) Can you find a pattern that would help you work out the number of different ways dominoes can be used to cover any n × 2 rectangle?"
   ]
  },
  {
   "cell_type": "code",
   "execution_count": 5,
   "metadata": {},
   "outputs": [
    {
     "name": "stdout",
     "output_type": "stream",
     "text": [
      "There are 1 ways to cover a 1 x 2 grid.\n",
      "There are 2 ways to cover a 2 x 2 grid.\n",
      "There are 3 ways to cover a 3 x 2 grid.\n",
      "There are 5 ways to cover a 4 x 2 grid.\n",
      "There are 8 ways to cover a 5 x 2 grid.\n",
      "There are 13 ways to cover a 6 x 2 grid.\n",
      "There are 21 ways to cover a 7 x 2 grid.\n",
      "There are 34 ways to cover a 8 x 2 grid.\n",
      "There are 55 ways to cover a 9 x 2 grid.\n",
      "There are 89 ways to cover a 10 x 2 grid.\n"
     ]
    }
   ],
   "source": [
    "for n in range(1,11):\n",
    "    t = 0\n",
    "    domino = np.zeros((2, n))\n",
    "    for arr in cover_grids(n, domino, 1):\n",
    "        t += 1\n",
    "    print(f\"There are {t} ways to cover a {n} x 2 grid.\")"
   ]
  },
  {
   "cell_type": "code",
   "execution_count": null,
   "metadata": {},
   "outputs": [],
   "source": []
  }
 ],
 "metadata": {
  "kernelspec": {
   "display_name": "ml_projects",
   "language": "python",
   "name": "python3"
  },
  "language_info": {
   "codemirror_mode": {
    "name": "ipython",
    "version": 3
   },
   "file_extension": ".py",
   "mimetype": "text/x-python",
   "name": "python",
   "nbconvert_exporter": "python",
   "pygments_lexer": "ipython3",
   "version": "3.9.0"
  }
 },
 "nbformat": 4,
 "nbformat_minor": 2
}
