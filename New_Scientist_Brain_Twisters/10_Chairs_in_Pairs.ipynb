{
 "cells": [
  {
   "cell_type": "markdown",
   "metadata": {},
   "source": [
    "### Chairs in Pairs"
   ]
  },
  {
   "cell_type": "code",
   "execution_count": 1,
   "metadata": {},
   "outputs": [],
   "source": [
    "from itertools import combinations"
   ]
  },
  {
   "cell_type": "markdown",
   "metadata": {},
   "source": [
    "Abbie and Bryn are allocated places to sit at random in a row of four seats."
   ]
  },
  {
   "cell_type": "markdown",
   "metadata": {},
   "source": [
    "(1) What is the probability that they are put next to each other?"
   ]
  },
  {
   "cell_type": "code",
   "execution_count": 4,
   "metadata": {},
   "outputs": [
    {
     "name": "stdout",
     "output_type": "stream",
     "text": [
      "The probability that they are next to each other in a row of 4 seats is 0.5.\n"
     ]
    }
   ],
   "source": [
    "total = 0\n",
    "count = 0\n",
    "for A, B in list(combinations(range(4), 2)):\n",
    "    if abs(A - B) == 1:\n",
    "        count += 1\n",
    "    total += 1\n",
    "print(f\"The probability that they are next to each other in a row of 4 seats is {count/total}.\")"
   ]
  },
  {
   "cell_type": "markdown",
   "metadata": {},
   "source": [
    "(2) What if there are 20 seats?"
   ]
  },
  {
   "cell_type": "code",
   "execution_count": 5,
   "metadata": {},
   "outputs": [
    {
     "name": "stdout",
     "output_type": "stream",
     "text": [
      "The probability that they are next to each other in a row of 20 seats is 0.1.\n"
     ]
    }
   ],
   "source": [
    "total = 0\n",
    "count = 0\n",
    "for A, B in list(combinations(range(20), 2)):\n",
    "    if abs(A - B) == 1:\n",
    "        count += 1\n",
    "    total += 1\n",
    "print(f\"The probability that they are next to each other in a row of 20 seats is {count/total}.\")"
   ]
  },
  {
   "cell_type": "markdown",
   "metadata": {},
   "source": [
    "On a different occasion, Abbie and her friend Ana have booked two adjacent spots on the front row, which is 22 seats long. Bryn and his friend Beth also have two adjacent seats among the 22."
   ]
  },
  {
   "cell_type": "markdown",
   "metadata": {},
   "source": [
    "(3) What is the probability the two groups are next to each other?"
   ]
  },
  {
   "cell_type": "code",
   "execution_count": 6,
   "metadata": {},
   "outputs": [
    {
     "name": "stdout",
     "output_type": "stream",
     "text": [
      "The probability that the two groups are next to each other in a row of 22 seats is 0.1.\n"
     ]
    }
   ],
   "source": [
    "total = 0\n",
    "count = 0\n",
    "for AA, BB in list(combinations(range(22-1), 2)):\n",
    "    # the pair cannot overlap\n",
    "    if abs(AA - BB) == 1:\n",
    "        continue\n",
    "    if abs(AA - BB) == 2:\n",
    "        count += 1\n",
    "    total += 1\n",
    "print(f\"The probability that the two groups are next to each other in a row of 22 seats is {count/total}.\")"
   ]
  }
 ],
 "metadata": {
  "kernelspec": {
   "display_name": "ml_projects",
   "language": "python",
   "name": "python3"
  },
  "language_info": {
   "codemirror_mode": {
    "name": "ipython",
    "version": 3
   },
   "file_extension": ".py",
   "mimetype": "text/x-python",
   "name": "python",
   "nbconvert_exporter": "python",
   "pygments_lexer": "ipython3",
   "version": "3.9.0"
  }
 },
 "nbformat": 4,
 "nbformat_minor": 2
}
