{
 "cells": [
  {
   "cell_type": "markdown",
   "metadata": {},
   "source": [
    "### Digital Sevens\n",
    "\n",
    "61, 14234, 25, 1111111 and 95 are all numbers whose digits add to a multiple of 7."
   ]
  },
  {
   "cell_type": "code",
   "execution_count": 7,
   "metadata": {},
   "outputs": [],
   "source": [
    "def sum_digits(n):\n",
    "    sum = 0\n",
    "    while n:\n",
    "        sum += n % 10\n",
    "        n //= 10\n",
    "    return sum"
   ]
  },
  {
   "cell_type": "markdown",
   "metadata": {},
   "source": [
    "What is the next number after 95 whose digits add to a multiple of 7?"
   ]
  },
  {
   "cell_type": "code",
   "execution_count": 13,
   "metadata": {},
   "outputs": [
    {
     "name": "stdout",
     "output_type": "stream",
     "text": [
      "Next number after 95 whose digits add to a multiple of 7 is: 106\n"
     ]
    }
   ],
   "source": [
    "num = 96\n",
    "while sum_digits(num) % 7 != 0:\n",
    "    num += 1\n",
    "print('Next number after 95 whose digits add to a multiple of 7 is:', num)"
   ]
  },
  {
   "cell_type": "markdown",
   "metadata": {},
   "source": [
    "Can you find a pair of consecutive numbers whose digits both add to multiples of 7?"
   ]
  },
  {
   "cell_type": "code",
   "execution_count": 25,
   "metadata": {},
   "outputs": [
    {
     "name": "stdout",
     "output_type": "stream",
     "text": [
      "The smallest pair of consecutive numbers whose digits both add to multiples of 7 is: (69999,70000)\n"
     ]
    }
   ],
   "source": [
    "num = 0\n",
    "while sum_digits(num) % 7 != 0 or sum_digits(num+1) % 7 != 0:\n",
    "    num += 1\n",
    "print(f'The smallest pair of consecutive numbers whose digits both add to multiples of 7 is: ({num},{num+1})') "
   ]
  },
  {
   "cell_type": "markdown",
   "metadata": {},
   "source": [
    "What about a pair of numbers under 100 whose digits both add to multiples of 7, but that are two apart rather than consecutive?"
   ]
  },
  {
   "cell_type": "code",
   "execution_count": 24,
   "metadata": {},
   "outputs": [
    {
     "name": "stdout",
     "output_type": "stream",
     "text": [
      "Pairs of numbers under 100 whose digits both add to multiples of 7, but are two apart:\n",
      "(59, 61)\n",
      "(68, 70)\n"
     ]
    }
   ],
   "source": [
    "num = 0\n",
    "print('Pairs of numbers under 100 whose digits both add to multiples of 7, but are two apart:')\n",
    "while num < 99:\n",
    "    if sum_digits(num) % 7 == 0 and sum_digits(num+2) % 7 == 0:\n",
    "        print((num, num+2))\n",
    "    num += 1"
   ]
  },
  {
   "cell_type": "code",
   "execution_count": null,
   "metadata": {},
   "outputs": [],
   "source": []
  }
 ],
 "metadata": {
  "kernelspec": {
   "display_name": "ml_projects",
   "language": "python",
   "name": "python3"
  },
  "language_info": {
   "codemirror_mode": {
    "name": "ipython",
    "version": 3
   },
   "file_extension": ".py",
   "mimetype": "text/x-python",
   "name": "python",
   "nbconvert_exporter": "python",
   "pygments_lexer": "ipython3",
   "version": "3.9.0"
  }
 },
 "nbformat": 4,
 "nbformat_minor": 2
}
