{
 "cells": [
  {
   "cell_type": "markdown",
   "metadata": {},
   "source": [
    "### Page Turner\n",
    "\n",
    "When printing books, the page numbers are included in the corner of each page."
   ]
  },
  {
   "cell_type": "code",
   "execution_count": null,
   "metadata": {},
   "outputs": [],
   "source": [
    "def countDigit(n): \n",
    "    count = 0\n",
    "    while n != 0: \n",
    "        n //= 10\n",
    "        count += 1\n",
    "    return count"
   ]
  },
  {
   "cell_type": "markdown",
   "metadata": {},
   "source": [
    "(1) If a book has 24 pages, how many digits are used in printing all the page numbers?"
   ]
  },
  {
   "cell_type": "code",
   "execution_count": 8,
   "metadata": {},
   "outputs": [
    {
     "name": "stdout",
     "output_type": "stream",
     "text": [
      "If a book has 24 pages, total digits used in printing all the page numbers: 39\n"
     ]
    }
   ],
   "source": [
    "num = 24\n",
    "total_digits = 0\n",
    "for i in range(num+1):\n",
    "    total_digits += countDigit(i)\n",
    "print(\"If a book has 24 pages, total digits used in printing all the page numbers:\", total_digits)"
   ]
  },
  {
   "cell_type": "markdown",
   "metadata": {},
   "source": [
    "(2) If a book uses 183 digits in printing all the page numbers, how many pages does it contain?"
   ]
  },
  {
   "cell_type": "code",
   "execution_count": 18,
   "metadata": {},
   "outputs": [
    {
     "name": "stdout",
     "output_type": "stream",
     "text": [
      "If a book uses 183 digits in printing all the page numbers, the no. of pages it contains is: 96\n"
     ]
    }
   ],
   "source": [
    "total_digits = 183\n",
    "num = 1\n",
    "while total_digits > 0:\n",
    "    total_digits -= countDigit(num)\n",
    "    num += 1\n",
    "print(\"If a book uses 183 digits in printing all the page numbers, the no. of pages it contains is:\", num-1)"
   ]
  },
  {
   "cell_type": "markdown",
   "metadata": {},
   "source": [
    "(3) If another book uses 636 digits in printing all the page numbers, how many pages does it have?"
   ]
  },
  {
   "cell_type": "code",
   "execution_count": 19,
   "metadata": {},
   "outputs": [
    {
     "name": "stdout",
     "output_type": "stream",
     "text": [
      "If a book uses 636 digits in printing all the page numbers, the no. of pages it contains is: 248\n"
     ]
    }
   ],
   "source": [
    "total_digits = 636\n",
    "num = 1\n",
    "while total_digits > 0:\n",
    "    total_digits -= countDigit(num)\n",
    "    num += 1\n",
    "print(\"If a book uses 636 digits in printing all the page numbers, the no. of pages it contains is:\", num-1)"
   ]
  }
 ],
 "metadata": {
  "kernelspec": {
   "display_name": "ml_projects",
   "language": "python",
   "name": "python3"
  },
  "language_info": {
   "codemirror_mode": {
    "name": "ipython",
    "version": 3
   },
   "file_extension": ".py",
   "mimetype": "text/x-python",
   "name": "python",
   "nbconvert_exporter": "python",
   "pygments_lexer": "ipython3",
   "version": "3.9.0"
  }
 },
 "nbformat": 4,
 "nbformat_minor": 2
}
