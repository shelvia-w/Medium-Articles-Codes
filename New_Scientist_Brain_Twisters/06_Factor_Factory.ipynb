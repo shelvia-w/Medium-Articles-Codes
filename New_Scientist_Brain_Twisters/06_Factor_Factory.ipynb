{
 "cells": [
  {
   "cell_type": "markdown",
   "metadata": {},
   "source": [
    "### Factor Factory"
   ]
  },
  {
   "cell_type": "markdown",
   "metadata": {},
   "source": [
    "The factors of 12 are 1, 2, 3, 4, 6 and 12. It has four even factors and two odd factors, so two-thirds of its factors are even."
   ]
  },
  {
   "cell_type": "code",
   "execution_count": 7,
   "metadata": {},
   "outputs": [],
   "source": [
    "def factorize(num):\n",
    "    factors = []\n",
    "    i = 1\n",
    "    j = num\n",
    "    while True:\n",
    "        if i*j == num:\n",
    "            factors.append(i)\n",
    "            if i == j:\n",
    "                break\n",
    "            factors.append(j)\n",
    "        i += 1\n",
    "        j = num // i\n",
    "        if i > j:\n",
    "            break\n",
    "    return sorted(factors)"
   ]
  },
  {
   "cell_type": "markdown",
   "metadata": {},
   "source": [
    "(1) What fraction of the factors of 8 are even?"
   ]
  },
  {
   "cell_type": "code",
   "execution_count": 11,
   "metadata": {},
   "outputs": [
    {
     "name": "stdout",
     "output_type": "stream",
     "text": [
      "3/4 of the factors of 8 are even.\n"
     ]
    }
   ],
   "source": [
    "factor_list = factorize(8)\n",
    "n_even_list = [n for n in factor_list if n%2==0]\n",
    "print(f'{len(n_even_list)}/{len(factor_list)} of the factors of 8 are even.')"
   ]
  },
  {
   "cell_type": "markdown",
   "metadata": {},
   "source": [
    "(2) How many whole numbers between 1 and 100 have the property that exactly half of their factors are even?"
   ]
  },
  {
   "cell_type": "code",
   "execution_count": 13,
   "metadata": {},
   "outputs": [
    {
     "name": "stdout",
     "output_type": "stream",
     "text": [
      "There are 25 numbers between 1 and 100 with property that exactly half of their factors are even.\n"
     ]
    }
   ],
   "source": [
    "count = 0\n",
    "for num in range(2,100):\n",
    "    factor_list = factorize(num)\n",
    "    n_even_list = [n for n in factor_list if n%2==0]\n",
    "    if len(n_even_list)/len(factor_list) == 0.5:\n",
    "        count += 1\n",
    "print(f'There are {count} numbers between 1 and 100 with property that exactly half of their factors are even.')"
   ]
  },
  {
   "cell_type": "markdown",
   "metadata": {},
   "source": [
    "(3) How many whole numbers between 1 and 1 million have the property that exactly one-third of their factors are divisible by 3?"
   ]
  },
  {
   "cell_type": "code",
   "execution_count": 14,
   "metadata": {},
   "outputs": [
    {
     "name": "stdout",
     "output_type": "stream",
     "text": [
      "There are 0 numbers between 1 and 1 million with property that exactly one-third of their factors are divisible by 3.\n"
     ]
    }
   ],
   "source": [
    "count = 0\n",
    "for num in range(2,1000000):\n",
    "    factor_list = factorize(num)\n",
    "    n_even_list = [n for n in factor_list if n%3==0]\n",
    "    if len(n_even_list)/len(factor_list) == 1/3:\n",
    "        count += 1\n",
    "print(f'There are {count} numbers between 1 and 1 million with property that exactly one-third of their factors are divisible by 3.')"
   ]
  }
 ],
 "metadata": {
  "kernelspec": {
   "display_name": "ml_projects",
   "language": "python",
   "name": "python3"
  },
  "language_info": {
   "codemirror_mode": {
    "name": "ipython",
    "version": 3
   },
   "file_extension": ".py",
   "mimetype": "text/x-python",
   "name": "python",
   "nbconvert_exporter": "python",
   "pygments_lexer": "ipython3",
   "version": "3.9.0"
  }
 },
 "nbformat": 4,
 "nbformat_minor": 2
}
