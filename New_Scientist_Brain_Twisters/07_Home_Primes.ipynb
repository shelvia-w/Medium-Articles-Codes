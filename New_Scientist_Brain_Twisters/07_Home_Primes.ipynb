{
 "cells": [
  {
   "cell_type": "markdown",
   "metadata": {},
   "source": [
    "### Home Primes"
   ]
  },
  {
   "cell_type": "markdown",
   "metadata": {},
   "source": [
    "To find the home prime of a number, follow this procedure: first, find its prime factors; then concatenate these by writing the prime factors in size order to form a new number using all of their digits; then repeat until the resulting number is prime. For example, 9 = 3 × 3, so its prime factors are 3 and 3. These concatenate to give 33. Now, find the prime factors of 33. They are 3 and 11, which concatenate to give 311. Since 311 is prime, we stop and say that the home prime of 9 is 311. The home prime of a prime number is the number itself. So, for example, the home prime of 2 is 2."
   ]
  },
  {
   "cell_type": "code",
   "execution_count": 4,
   "metadata": {},
   "outputs": [],
   "source": [
    "def prime_factors(num):\n",
    "    i = 2\n",
    "    factors = []\n",
    "    while i * i <= num:\n",
    "        if num % i:\n",
    "            i += 1\n",
    "        else:\n",
    "            num //= i\n",
    "            factors.append(i)\n",
    "    if num > 1:\n",
    "        factors.append(num)\n",
    "    return factors"
   ]
  },
  {
   "cell_type": "code",
   "execution_count": 5,
   "metadata": {},
   "outputs": [],
   "source": [
    "def check_prime(num):\n",
    "    if num == 1:\n",
    "        return False\n",
    "    else:\n",
    "        for i in range(2, num):\n",
    "            if (num % i) == 0:\n",
    "                return False\n",
    "        return True"
   ]
  },
  {
   "cell_type": "code",
   "execution_count": 6,
   "metadata": {},
   "outputs": [],
   "source": [
    "def home_prime(num, print_factors=False, check_num=None):\n",
    "    while len(prime_factors(num)) != 1 or not check_prime(num):\n",
    "        factors = prime_factors(num)\n",
    "        if print_factors:\n",
    "            print(f'{num}={\"x\".join(str(n) for n in factors)}')\n",
    "        num = int(''.join(map(str, factors)))\n",
    "        if check_num is not None and num >= check_num:\n",
    "            break\n",
    "    return num\n",
    "            "
   ]
  },
  {
   "cell_type": "markdown",
   "metadata": {},
   "source": [
    "(1) What is the home prime of 6?"
   ]
  },
  {
   "cell_type": "code",
   "execution_count": 7,
   "metadata": {},
   "outputs": [
    {
     "name": "stdout",
     "output_type": "stream",
     "text": [
      "6=2x3\n",
      "The home prime of 6 is 23.\n"
     ]
    }
   ],
   "source": [
    "print(f\"The home prime of 6 is {home_prime(6, print_factors=True)}.\")"
   ]
  },
  {
   "cell_type": "markdown",
   "metadata": {},
   "source": [
    "(2) How about the home prime of 10?"
   ]
  },
  {
   "cell_type": "code",
   "execution_count": 8,
   "metadata": {},
   "outputs": [
    {
     "name": "stdout",
     "output_type": "stream",
     "text": [
      "10=2x5\n",
      "25=5x5\n",
      "55=5x11\n",
      "511=7x73\n",
      "The home prime of 10 is 773.\n"
     ]
    }
   ],
   "source": [
    "print(f\"The home prime of 10 is {home_prime(10, print_factors=True)}.\")"
   ]
  },
  {
   "cell_type": "markdown",
   "metadata": {},
   "source": [
    "(3) Which number less than 20 has a home prime of 1129?"
   ]
  },
  {
   "cell_type": "code",
   "execution_count": 12,
   "metadata": {},
   "outputs": [
    {
     "name": "stdout",
     "output_type": "stream",
     "text": [
      "1129 is the home prime of 15.\n",
      "15=3x5\n",
      "35=5x7\n",
      "57=3x19\n",
      "319=11x29\n",
      "1129\n"
     ]
    }
   ],
   "source": [
    "for num in range(3,20):\n",
    "    if home_prime(num, check_num=1129) == 1129:\n",
    "        print(f\"1129 is the home prime of {num}.\")\n",
    "        print(home_prime(num, print_factors=True))\n",
    "        break"
   ]
  },
  {
   "cell_type": "code",
   "execution_count": null,
   "metadata": {},
   "outputs": [],
   "source": []
  }
 ],
 "metadata": {
  "kernelspec": {
   "display_name": "ml_projects",
   "language": "python",
   "name": "python3"
  },
  "language_info": {
   "codemirror_mode": {
    "name": "ipython",
    "version": 3
   },
   "file_extension": ".py",
   "mimetype": "text/x-python",
   "name": "python",
   "nbconvert_exporter": "python",
   "pygments_lexer": "ipython3",
   "version": "3.9.0"
  }
 },
 "nbformat": 4,
 "nbformat_minor": 2
}
