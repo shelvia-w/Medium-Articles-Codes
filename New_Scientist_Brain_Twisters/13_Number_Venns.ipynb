{
 "cells": [
  {
   "cell_type": "markdown",
   "metadata": {},
   "source": [
    "### Number Venns"
   ]
  },
  {
   "cell_type": "markdown",
   "metadata": {},
   "source": [
    "Numbers 1–30 are put in circle A if they are part of group A, in circle B if they belong to group B, in the intersection between if they are part of both A and B, or outside the circles if they don't belong to either A or B."
   ]
  },
  {
   "cell_type": "code",
   "execution_count": 2,
   "metadata": {},
   "outputs": [
    {
     "name": "stdout",
     "output_type": "stream",
     "text": [
      "A: [3, 6, 9, 15, 18, 21, 27, 30]\n",
      "B: [4, 8, 16, 20, 28]\n",
      "A ∩ B: [12, 24]\n"
     ]
    }
   ],
   "source": [
    "# Diagram 1\n",
    "A = []\n",
    "B = []\n",
    "AB = []\n",
    "for i in range(1,31):\n",
    "    if i % 3 == 0 and i % 4 == 0:\n",
    "        AB.append(i)\n",
    "    elif i % 3 == 0:\n",
    "        A.append(i)\n",
    "    elif i % 4 == 0:\n",
    "        B.append(i)\n",
    "print('A:', A)\n",
    "print('B:', B)\n",
    "print('A ∩ B:', AB)"
   ]
  },
  {
   "cell_type": "code",
   "execution_count": 3,
   "metadata": {},
   "outputs": [
    {
     "name": "stdout",
     "output_type": "stream",
     "text": [
      "A: [3, 5, 7, 11, 13, 17, 19, 23, 29]\n",
      "B: [4, 6, 8, 10, 12, 14, 16, 18, 20, 22, 24, 26, 28, 30]\n",
      "A ∩ B: [2]\n"
     ]
    }
   ],
   "source": [
    "# Diagram 2\n",
    "def check_prime(num):\n",
    "    if num == 1:\n",
    "        return False\n",
    "    else:\n",
    "        for i in range(2, num):\n",
    "            if (num % i) == 0:\n",
    "                return False\n",
    "        return True\n",
    "\n",
    "A = []\n",
    "B = []\n",
    "AB = []\n",
    "for i in range(1,31):\n",
    "    if check_prime(i) and i % 2 == 0:\n",
    "        AB.append(i)\n",
    "    elif check_prime(i):\n",
    "        A.append(i)\n",
    "    elif i % 2 == 0:\n",
    "        B.append(i)\n",
    "print('A:', A)\n",
    "print('B:', B)\n",
    "print('A ∩ B:', AB)"
   ]
  },
  {
   "cell_type": "code",
   "execution_count": 8,
   "metadata": {},
   "outputs": [
    {
     "name": "stdout",
     "output_type": "stream",
     "text": [
      "A: [3, 6, 10, 15, 21, 28]\n",
      "B: [4, 9, 16, 25]\n",
      "A ∩ B: [1]\n"
     ]
    }
   ],
   "source": [
    "# Diagram 3   \n",
    "def check_triangular(num):\n",
    "    for i in range(num+1):\n",
    "        if i*(i+1)/2 == num:\n",
    "            return True\n",
    "    return False\n",
    "\n",
    "def check_square(num):\n",
    "    for i in range(num+1):\n",
    "        if i**2 == num:\n",
    "            return True\n",
    "    return False\n",
    "\n",
    "A = []\n",
    "B = []\n",
    "AB = []\n",
    "for i in range(1,31):\n",
    "    if check_triangular(i) and check_square(i):\n",
    "        AB.append(i)\n",
    "    elif check_triangular(i):\n",
    "        A.append(i)\n",
    "    elif check_square(i):\n",
    "        B.append(i)\n",
    "print('A:', A)\n",
    "print('B:', B)\n",
    "print('A ∩ B:', AB)"
   ]
  }
 ],
 "metadata": {
  "kernelspec": {
   "display_name": "ml_projects",
   "language": "python",
   "name": "python3"
  },
  "language_info": {
   "codemirror_mode": {
    "name": "ipython",
    "version": 3
   },
   "file_extension": ".py",
   "mimetype": "text/x-python",
   "name": "python",
   "nbconvert_exporter": "python",
   "pygments_lexer": "ipython3",
   "version": "3.9.0"
  }
 },
 "nbformat": 4,
 "nbformat_minor": 2
}
