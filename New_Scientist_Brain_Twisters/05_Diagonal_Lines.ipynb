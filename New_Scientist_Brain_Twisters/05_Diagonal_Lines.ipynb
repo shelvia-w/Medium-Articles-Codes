{
 "cells": [
  {
   "cell_type": "markdown",
   "metadata": {},
   "source": [
    "### Diagonal Lines"
   ]
  },
  {
   "cell_type": "code",
   "execution_count": 2,
   "metadata": {},
   "outputs": [
    {
     "name": "stdout",
     "output_type": "stream",
     "text": [
      "A pentagon has 5 diagonals.\n",
      "A hexagon has 9 diagonals.\n"
     ]
    }
   ],
   "source": [
    "def compute_n_diagonals(n):\n",
    "    return int(n*(n-3)/2)\n",
    "\n",
    "print(f'A pentagon has {compute_n_diagonals(5)} diagonals.')\n",
    "print(f'A hexagon has {compute_n_diagonals(6)} diagonals.')"
   ]
  },
  {
   "cell_type": "code",
   "execution_count": 4,
   "metadata": {},
   "outputs": [
    {
     "name": "stdout",
     "output_type": "stream",
     "text": [
      "9-gon has a number of diagonals that is three times the number of its corners.\n"
     ]
    }
   ],
   "source": [
    "n = 4  # start from square\n",
    "while compute_n_diagonals(n)!=3*n:\n",
    "    n += 1\n",
    "print(f'{n}-gon has a number of diagonals that is three times the number of its corners.')"
   ]
  }
 ],
 "metadata": {
  "kernelspec": {
   "display_name": "ml_projects",
   "language": "python",
   "name": "python3"
  },
  "language_info": {
   "codemirror_mode": {
    "name": "ipython",
    "version": 3
   },
   "file_extension": ".py",
   "mimetype": "text/x-python",
   "name": "python",
   "nbconvert_exporter": "python",
   "pygments_lexer": "ipython3",
   "version": "3.9.0"
  }
 },
 "nbformat": 4,
 "nbformat_minor": 2
}
