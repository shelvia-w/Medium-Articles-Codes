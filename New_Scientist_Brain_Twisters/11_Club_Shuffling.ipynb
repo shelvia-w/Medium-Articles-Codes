{
 "cells": [
  {
   "cell_type": "markdown",
   "metadata": {},
   "source": [
    "### Club Shuffling"
   ]
  },
  {
   "cell_type": "code",
   "execution_count": 1,
   "metadata": {},
   "outputs": [],
   "source": [
    "from itertools import combinations"
   ]
  },
  {
   "cell_type": "markdown",
   "metadata": {},
   "source": [
    "I play golf with three of my friends, and we split into two teams for each game, one team against the other. We change partners after each game until every possible pair of teams has played."
   ]
  },
  {
   "cell_type": "code",
   "execution_count": 2,
   "metadata": {},
   "outputs": [],
   "source": [
    "def find_pairs(n_players, n_players_per_team):\n",
    "    pairs = []\n",
    "    for A, B in combinations(combinations(range(1, n_players + 1), n_players_per_team), 2):\n",
    "        if not set(A) & set(B):     # make sure the pairs are unique\n",
    "            pairs.append((A, B))\n",
    "    return pairs"
   ]
  },
  {
   "cell_type": "markdown",
   "metadata": {},
   "source": [
    "(1) How many games will be played altogether?"
   ]
  },
  {
   "cell_type": "code",
   "execution_count": 3,
   "metadata": {},
   "outputs": [
    {
     "name": "stdout",
     "output_type": "stream",
     "text": [
      "They will play a total of 3 games.\n"
     ]
    }
   ],
   "source": [
    "pairs = find_pairs(n_players = 4, n_players_per_team = 2)\n",
    "print(f\"They will play a total of {len(pairs)} games.\")"
   ]
  },
  {
   "cell_type": "markdown",
   "metadata": {},
   "source": [
    "(2) If I win all my games, how many games can each other person win? What if I lose all my games?"
   ]
  },
  {
   "cell_type": "code",
   "execution_count": 4,
   "metadata": {},
   "outputs": [
    {
     "name": "stdout",
     "output_type": "stream",
     "text": [
      "If you win all your games, each other person will win 1 game.\n",
      "If you lose all your games, each other person will win 2 games.\n"
     ]
    }
   ],
   "source": [
    "pairs = find_pairs(n_players = 4, n_players_per_team = 2)\n",
    "n_win = 0\n",
    "n_lose = 0\n",
    "for A, B in pairs:\n",
    "    if 2 in A:      # Check how many wins player 2 will have\n",
    "        n_win += 1\n",
    "    else:\n",
    "        n_lose += 1\n",
    "\n",
    "print(f\"If you win all your games, each other person will win {n_win} game.\")\n",
    "print(f\"If you lose all your games, each other person will win {n_lose} games.\")"
   ]
  },
  {
   "cell_type": "markdown",
   "metadata": {},
   "source": [
    "(3) If we add two more friends to the group and play in two teams of three instead, how does this change the answers to the questions above?"
   ]
  },
  {
   "cell_type": "code",
   "execution_count": 5,
   "metadata": {},
   "outputs": [
    {
     "name": "stdout",
     "output_type": "stream",
     "text": [
      "They will play a total of 10 games.\n",
      "If you win all your games, each other person will win 4 games.\n",
      "If you lose all your games, each other person will win 6 games.\n"
     ]
    }
   ],
   "source": [
    "pairs = find_pairs(n_players = 6, n_players_per_team = 3)\n",
    "print(f\"They will play a total of {len(pairs)} games.\")\n",
    "\n",
    "n_win = 0\n",
    "n_lose = 0\n",
    "for A, B in pairs:\n",
    "    if 2 in A:      # Check how many wins player 2 will have\n",
    "        n_win += 1\n",
    "    else:\n",
    "        n_lose += 1\n",
    "\n",
    "print(f\"If you win all your games, each other person will win {n_win} games.\")\n",
    "print(f\"If you lose all your games, each other person will win {n_lose} games.\")"
   ]
  },
  {
   "cell_type": "code",
   "execution_count": null,
   "metadata": {},
   "outputs": [],
   "source": []
  }
 ],
 "metadata": {
  "kernelspec": {
   "display_name": "ml_projects",
   "language": "python",
   "name": "python3"
  },
  "language_info": {
   "codemirror_mode": {
    "name": "ipython",
    "version": 3
   },
   "file_extension": ".py",
   "mimetype": "text/x-python",
   "name": "python",
   "nbconvert_exporter": "python",
   "pygments_lexer": "ipython3",
   "version": "3.9.0"
  }
 },
 "nbformat": 4,
 "nbformat_minor": 2
}
