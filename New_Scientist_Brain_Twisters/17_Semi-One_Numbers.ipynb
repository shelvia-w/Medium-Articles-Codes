{
 "cells": [
  {
   "cell_type": "markdown",
   "metadata": {},
   "source": [
    "### Semi-one Numbers"
   ]
  },
  {
   "cell_type": "markdown",
   "metadata": {},
   "source": [
    "When you count up to 2, exactly half of the numbers contain the digit \"1\". We can use the term \"semi-one numbers\" to describe numbers with this property."
   ]
  },
  {
   "cell_type": "markdown",
   "metadata": {},
   "source": [
    "(1) The same is true of a number between 15 and 20. Which one?"
   ]
  },
  {
   "cell_type": "code",
   "execution_count": 6,
   "metadata": {},
   "outputs": [
    {
     "name": "stdout",
     "output_type": "stream",
     "text": [
      "The semi-one number between 15 and 20 is: 16.\n"
     ]
    }
   ],
   "source": [
    "for num in range(15,21):\n",
    "    semi_one = 0\n",
    "    for i in range(1,num+1):\n",
    "        if '1' in str(i):\n",
    "            semi_one += 1\n",
    "    if semi_one*2 == num:\n",
    "        print(f\"The semi-one number between 15 and 20 is: {num}.\")"
   ]
  },
  {
   "cell_type": "markdown",
   "metadata": {},
   "source": [
    "(2) What is the next semi-one number after that?"
   ]
  },
  {
   "cell_type": "code",
   "execution_count": 11,
   "metadata": {},
   "outputs": [
    {
     "name": "stdout",
     "output_type": "stream",
     "text": [
      "The semi-one number between 15 and 20 is: 24.\n"
     ]
    }
   ],
   "source": [
    "found = False\n",
    "num = 22\n",
    "while not found:\n",
    "    semi_one = 0\n",
    "    for i in range(1,num+1):\n",
    "        if '1' in str(i):\n",
    "            semi_one += 1\n",
    "    if semi_one*2 == num:\n",
    "        print(f\"The semi-one number between 15 and 20 is: {num}.\")\n",
    "        found = True\n",
    "    num += 1"
   ]
  },
  {
   "cell_type": "markdown",
   "metadata": {},
   "source": [
    "(3) Could there be infinitely many such numbers?"
   ]
  },
  {
   "cell_type": "code",
   "execution_count": 29,
   "metadata": {},
   "outputs": [],
   "source": [
    "semi_one_list = []\n",
    "for num in range(1,10000000):\n",
    "    semi_one = 0\n",
    "    for i in range(1,num+1):\n",
    "        if '1' in str(i):\n",
    "            semi_one += 1\n",
    "    if semi_one*2 == num:\n",
    "        semi_one_list.append(num)\n",
    "print(f\"The semi-one numbers are: {semi_one_list}.\")"
   ]
  }
 ],
 "metadata": {
  "kernelspec": {
   "display_name": "ml_projects",
   "language": "python",
   "name": "python3"
  },
  "language_info": {
   "codemirror_mode": {
    "name": "ipython",
    "version": 3
   },
   "file_extension": ".py",
   "mimetype": "text/x-python",
   "name": "python",
   "nbconvert_exporter": "python",
   "pygments_lexer": "ipython3",
   "version": "3.9.0"
  }
 },
 "nbformat": 4,
 "nbformat_minor": 2
}
