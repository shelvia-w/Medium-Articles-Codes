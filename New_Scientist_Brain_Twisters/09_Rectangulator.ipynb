{
 "cells": [
  {
   "cell_type": "markdown",
   "metadata": {},
   "source": [
    "### Rectangulator"
   ]
  },
  {
   "cell_type": "markdown",
   "metadata": {},
   "source": [
    "Given a standard calculator keyboard, press - in order, going either clockwise or anticlockwise - four digit keys that form the corners of a square or rectangle on the keypad. This will create a four-digit number, e.g. 7469."
   ]
  },
  {
   "cell_type": "code",
   "execution_count": 1,
   "metadata": {},
   "outputs": [],
   "source": [
    "# map number to position\n",
    "n2p = {7: (0, 0), 8: (1, 0), 9: (2, 0),\n",
    "       4: (0, 1), 5: (1, 1), 6: (2, 1),\n",
    "       1: (0, 2), 2: (1, 2), 3: (2, 2),\n",
    "       0: (0, 3)}\n",
    "\n",
    "# map position to number\n",
    "p2n = {v: k for k, v in n2p.items()}"
   ]
  },
  {
   "cell_type": "code",
   "execution_count": 2,
   "metadata": {},
   "outputs": [],
   "source": [
    "def rectangulator(n1, min_width):\n",
    "    (x1, y1) = n2p[n1]\n",
    "    for (_, (x2, y2)) in n2p.items():\n",
    "        if abs(x2-x1) < min_width or abs(y2-y1) < min_width:\n",
    "            continue\n",
    "        digits = list(p2n.get(n) for n in [(x1, y1), (x2, y1), (x2, y2), (x1, y2)])     # clockwise number\n",
    "        if None in digits:\n",
    "            continue\n",
    "        n2 = int(\"\".join(map(str, digits)))\n",
    "        yield n2\n",
    "        (digits[1], digits[3]) = (digits[3], digits[1])  # anti-clockwise number\n",
    "        n2 = int(\"\".join(map(str, digits)))\n",
    "        yield n2"
   ]
  },
  {
   "cell_type": "markdown",
   "metadata": {},
   "source": [
    "(1) If the first button you press is the 7 key, how many possible four-digit numbers can you create?"
   ]
  },
  {
   "cell_type": "code",
   "execution_count": 3,
   "metadata": {},
   "outputs": [
    {
     "name": "stdout",
     "output_type": "stream",
     "text": [
      "Number of possible 4-digit numbers: 8\n",
      "[7128, 7139, 7458, 7469, 7821, 7854, 7931, 7964]\n"
     ]
    }
   ],
   "source": [
    "num = set(rectangulator(n1 = 7, min_width = 1))\n",
    "print(f\"Number of possible 4-digit numbers: {len(num)}\")\n",
    "print(sorted(num))"
   ]
  },
  {
   "cell_type": "markdown",
   "metadata": {},
   "source": [
    "(2) What about if your square or rectangle is allowed to have a height or width of zero?"
   ]
  },
  {
   "cell_type": "code",
   "execution_count": 4,
   "metadata": {},
   "outputs": [
    {
     "name": "stdout",
     "output_type": "stream",
     "text": [
      "Number of possible 4-digit numbers: 19\n",
      "[7007, 7117, 7128, 7139, 7447, 7458, 7469, 7700, 7711, 7744, 7777, 7788, 7799, 7821, 7854, 7887, 7931, 7964, 7997]\n"
     ]
    }
   ],
   "source": [
    "num = set(rectangulator(n1 = 7, min_width = 0))\n",
    "print(f\"Number of possible 4-digit numbers: {len(num)}\")\n",
    "print(sorted(num))"
   ]
  },
  {
   "cell_type": "markdown",
   "metadata": {},
   "source": [
    "(3) Can you show that for any square or rectangle you choose, the resulting four-digit number will always be divisible by 11?"
   ]
  },
  {
   "cell_type": "code",
   "execution_count": 5,
   "metadata": {},
   "outputs": [
    {
     "name": "stdout",
     "output_type": "stream",
     "text": [
      "There are 0 numbers not divisible by 11.\n",
      "[]\n"
     ]
    }
   ],
   "source": [
    "num = []\n",
    "\n",
    "for n1 in n2p.keys():\n",
    "    for n2 in rectangulator(n1 = n1, min_width = 0):\n",
    "        if n2 % 11 != 0:\n",
    "            num.append(n2)\n",
    "\n",
    "print(f\"There are {len(set(num))} numbers not divisible by 11.\")\n",
    "print(sorted(set(num)))"
   ]
  }
 ],
 "metadata": {
  "kernelspec": {
   "display_name": "ml_projects",
   "language": "python",
   "name": "python3"
  },
  "language_info": {
   "codemirror_mode": {
    "name": "ipython",
    "version": 3
   },
   "file_extension": ".py",
   "mimetype": "text/x-python",
   "name": "python",
   "nbconvert_exporter": "python",
   "pygments_lexer": "ipython3",
   "version": "3.9.0"
  }
 },
 "nbformat": 4,
 "nbformat_minor": 2
}
