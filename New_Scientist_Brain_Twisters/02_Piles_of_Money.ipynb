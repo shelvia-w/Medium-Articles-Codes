{
 "cells": [
  {
   "cell_type": "markdown",
   "metadata": {},
   "source": [
    "### Piles of Money\n",
    "\n",
    "You are given a heap of N tokens, which you may divide into any number of smaller heaps. You will then receive an amount of money equal to the product of the number of tokens in each heap. The rules of this game state that if you were to just leave all the tokens in one heap, you would win £N."
   ]
  },
  {
   "cell_type": "code",
   "execution_count": 21,
   "metadata": {},
   "outputs": [],
   "source": [
    "from itertools import combinations, chain\n",
    "from operator import sub\n",
    "import math\n",
    "\n",
    "def sum_to_n(n):\n",
    "    b, mid, e = [0], list(range(1, n)), [n]\n",
    "    splits = (d for i in range(n) for d in combinations(mid, i)) \n",
    "    return (list(map(sub, chain(s, e), chain(b, s))) for s in splits)"
   ]
  },
  {
   "cell_type": "markdown",
   "metadata": {},
   "source": [
    "(1) What is the largest sum of money you can win starting with six tokens?"
   ]
  },
  {
   "cell_type": "code",
   "execution_count": 26,
   "metadata": {},
   "outputs": [
    {
     "name": "stdout",
     "output_type": "stream",
     "text": [
      "Largest sum of money you can win starting with six tokens is: £9\n",
      "It can be obtained by dividing it into: [3, 3]\n"
     ]
    }
   ],
   "source": [
    "max_value = 0\n",
    "max_value_comb = []\n",
    "for comb in sum_to_n(6):\n",
    "    prod = math.prod(comb)\n",
    "    if prod > max_value:\n",
    "        max_value = prod\n",
    "        max_value_comb = comb\n",
    "print(f\"Largest sum of money you can win starting with six tokens is: £{max_value}\")\n",
    "print(\"It can be obtained by dividing it into:\", max_value_comb)"
   ]
  },
  {
   "cell_type": "markdown",
   "metadata": {},
   "source": [
    "(2) What about starting with 10 tokens?"
   ]
  },
  {
   "cell_type": "code",
   "execution_count": 30,
   "metadata": {},
   "outputs": [
    {
     "name": "stdout",
     "output_type": "stream",
     "text": [
      "Largest sum of money you can win starting with ten tokens is: £36\n",
      "It can be obtained by dividing it into: [3, 3, 4]\n"
     ]
    }
   ],
   "source": [
    "max_value = 0\n",
    "max_value_comb = []\n",
    "for comb in sum_to_n(10):\n",
    "    prod = math.prod(comb)\n",
    "    if prod > max_value:\n",
    "        max_value = prod\n",
    "        max_value_comb = comb\n",
    "print(f\"Largest sum of money you can win starting with ten tokens is: £{max_value}\")\n",
    "print(\"It can be obtained by dividing it into:\", max_value_comb)"
   ]
  },
  {
   "cell_type": "markdown",
   "metadata": {},
   "source": [
    "(3) Is there a general best strategy for N tokens?"
   ]
  },
  {
   "cell_type": "code",
   "execution_count": 29,
   "metadata": {},
   "outputs": [
    {
     "name": "stdout",
     "output_type": "stream",
     "text": [
      "Num: 1, max value: £1, combination: [1]\n",
      "Num: 2, max value: £2, combination: [2]\n",
      "Num: 3, max value: £3, combination: [3]\n",
      "Num: 4, max value: £4, combination: [4]\n",
      "Num: 5, max value: £6, combination: [2, 3]\n",
      "Num: 6, max value: £9, combination: [3, 3]\n",
      "Num: 7, max value: £12, combination: [3, 4]\n",
      "Num: 8, max value: £18, combination: [2, 3, 3]\n",
      "Num: 9, max value: £27, combination: [3, 3, 3]\n",
      "Num: 10, max value: £36, combination: [3, 3, 4]\n",
      "Num: 11, max value: £54, combination: [2, 3, 3, 3]\n",
      "Num: 12, max value: £81, combination: [3, 3, 3, 3]\n",
      "Num: 13, max value: £108, combination: [3, 3, 3, 4]\n",
      "Num: 14, max value: £162, combination: [2, 3, 3, 3, 3]\n",
      "Num: 15, max value: £243, combination: [3, 3, 3, 3, 3]\n",
      "Num: 16, max value: £324, combination: [3, 3, 3, 3, 4]\n",
      "Num: 17, max value: £486, combination: [2, 3, 3, 3, 3, 3]\n",
      "Num: 18, max value: £729, combination: [3, 3, 3, 3, 3, 3]\n",
      "Num: 19, max value: £972, combination: [3, 3, 3, 3, 3, 4]\n",
      "Num: 20, max value: £1458, combination: [2, 3, 3, 3, 3, 3, 3]\n"
     ]
    }
   ],
   "source": [
    "for num in range(1, 21):\n",
    "    max_value = 0\n",
    "    max_value_comb = []\n",
    "    for comb in sum_to_n(num):\n",
    "        prod = math.prod(comb)\n",
    "        if prod > max_value:\n",
    "            max_value = prod\n",
    "            max_value_comb = comb\n",
    "    print(f'Num: {num}, max value: £{max_value}, combination: {max_value_comb}')"
   ]
  },
  {
   "cell_type": "markdown",
   "metadata": {},
   "source": [
    "Here, we observe that for N > 4, the best strategy is to make piles of as many 3s as you can, then either a 2 or a 4 with what is left."
   ]
  }
 ],
 "metadata": {
  "kernelspec": {
   "display_name": "ml_projects",
   "language": "python",
   "name": "python3"
  },
  "language_info": {
   "codemirror_mode": {
    "name": "ipython",
    "version": 3
   },
   "file_extension": ".py",
   "mimetype": "text/x-python",
   "name": "python",
   "nbconvert_exporter": "python",
   "pygments_lexer": "ipython3",
   "version": "3.9.0"
  }
 },
 "nbformat": 4,
 "nbformat_minor": 2
}
