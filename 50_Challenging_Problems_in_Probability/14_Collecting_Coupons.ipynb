{
 "cells": [
  {
   "cell_type": "markdown",
   "metadata": {},
   "source": [
    "### Collecting Coupons"
   ]
  },
  {
   "cell_type": "code",
   "execution_count": 1,
   "metadata": {},
   "outputs": [],
   "source": [
    "import numpy as np"
   ]
  },
  {
   "cell_type": "code",
   "execution_count": 4,
   "metadata": {},
   "outputs": [
    {
     "name": "stdout",
     "output_type": "stream",
     "text": [
      "Average no. of boxes required to get a complete set = 11.42\n"
     ]
    }
   ],
   "source": [
    "n_simulations = 100000\n",
    "boxes_list = []\n",
    "\n",
    "for _ in range(n_simulations):\n",
    "    coupons_list = []\n",
    "    box = 0\n",
    "    while sorted(set(coupons_list))!=[1,2,3,4,5]:\n",
    "        box += 1\n",
    "        coupon = np.random.randint(1,6)\n",
    "        coupons_list.append(coupon)\n",
    "    boxes_list.append(box)\n",
    "\n",
    "print(f'Average no. of boxes required to get a complete set = {np.mean(boxes_list):.2f}')"
   ]
  }
 ],
 "metadata": {
  "kernelspec": {
   "display_name": "ml_projects",
   "language": "python",
   "name": "python3"
  },
  "language_info": {
   "codemirror_mode": {
    "name": "ipython",
    "version": 3
   },
   "file_extension": ".py",
   "mimetype": "text/x-python",
   "name": "python",
   "nbconvert_exporter": "python",
   "pygments_lexer": "ipython3",
   "version": "3.9.0"
  }
 },
 "nbformat": 4,
 "nbformat_minor": 2
}
