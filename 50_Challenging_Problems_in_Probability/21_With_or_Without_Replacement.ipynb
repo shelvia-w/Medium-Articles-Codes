{
 "cells": [
  {
   "cell_type": "markdown",
   "metadata": {},
   "source": [
    "### Should You Sample with or without Replacement?"
   ]
  },
  {
   "cell_type": "code",
   "execution_count": 1,
   "metadata": {},
   "outputs": [],
   "source": [
    "import numpy as np"
   ]
  },
  {
   "cell_type": "code",
   "execution_count": 5,
   "metadata": {},
   "outputs": [
    {
     "name": "stdout",
     "output_type": "stream",
     "text": [
      "Probability of guessing correctly (without replacement): 0.624.\n"
     ]
    }
   ],
   "source": [
    "# Without replacement\n",
    "\n",
    "n_simulations = 100000\n",
    "count = 0\n",
    "\n",
    "urn_a = ['r','r','b']\n",
    "urn_b = 101*['r']+100*['b']\n",
    "\n",
    "for _ in range(n_simulations):\n",
    "    idx = np.random.choice(2, 1)[0]\n",
    "    urn = urn_a if idx == 1 else urn_b\n",
    "    balls = np.random.choice(urn, 2, replace=False)\n",
    "    decision = urn_b if balls[0] == balls[1] == 'b' else urn_a\n",
    "    if urn == decision:\n",
    "        count += 1\n",
    "print(f'Probability of guessing correctly (without replacement): {count/n_simulations:.3f}.')"
   ]
  },
  {
   "cell_type": "code",
   "execution_count": 13,
   "metadata": {},
   "outputs": [
    {
     "name": "stdout",
     "output_type": "stream",
     "text": [
      "Probability of guessing correctly (with replacement): 0.597.\n"
     ]
    }
   ],
   "source": [
    "# With replacement\n",
    "\n",
    "n_simulations = 100000\n",
    "count = 0\n",
    "\n",
    "urn_a = ['r','r','b']\n",
    "urn_b = 101*['r']+100*['b']\n",
    "\n",
    "for _ in range(n_simulations):\n",
    "    idx = np.random.choice(2, 1)[0]\n",
    "    urn = urn_a if idx == 1 else urn_b\n",
    "    balls = np.random.choice(urn, 2, replace=True)\n",
    "    decision = urn_a if balls[0] == balls[1] == 'r' else urn_b\n",
    "    if urn == decision:\n",
    "        count += 1\n",
    "print(f'Probability of guessing correctly (with replacement): {count/n_simulations:.3f}.')"
   ]
  },
  {
   "cell_type": "code",
   "execution_count": 7,
   "metadata": {},
   "outputs": [
    {
     "name": "stdout",
     "output_type": "stream",
     "text": [
      "Probability of guessing correctly (replace only if first ball is red): 0.637.\n"
     ]
    }
   ],
   "source": [
    "# Replace if first ball is red, don't replace if first ball is black\n",
    "\n",
    "n_simulations = 100000\n",
    "count = 0\n",
    "\n",
    "urn_a = ['r','r','b']\n",
    "urn_b = 101*['r']+100*['b']\n",
    "\n",
    "for _ in range(n_simulations):\n",
    "    idx = np.random.choice(2, 1)[0]\n",
    "    urn = urn_a if idx == 1 else urn_b\n",
    "    ball_1 = np.random.choice(urn, 1)[0]\n",
    "    if ball_1 == 'b':\n",
    "        urn = urn[:-1]\n",
    "    ball_2 = np.random.choice(urn, 1)[0]\n",
    "    if ball_1 == 'r' and ball_2 == 'r':\n",
    "        decision = urn_a\n",
    "    elif ball_1 == 'r' and ball_2 == 'b':\n",
    "        decision = urn_b\n",
    "    elif ball_1 == 'b' and ball_2 == 'r':\n",
    "        decision = urn_a\n",
    "    elif ball_1 == 'b' and ball_2 == 'b':\n",
    "        decision = urn_b\n",
    "    urn = urn_a if idx == 1 else urn_b\n",
    "    if urn == decision:\n",
    "        count += 1\n",
    "print(f'Probability of guessing correctly (replace only if first ball is red): {count/n_simulations:.3f}.')"
   ]
  }
 ],
 "metadata": {
  "kernelspec": {
   "display_name": "ml_projects",
   "language": "python",
   "name": "python3"
  },
  "language_info": {
   "codemirror_mode": {
    "name": "ipython",
    "version": 3
   },
   "file_extension": ".py",
   "mimetype": "text/x-python",
   "name": "python",
   "nbconvert_exporter": "python",
   "pygments_lexer": "ipython3",
   "version": "3.9.0"
  }
 },
 "nbformat": 4,
 "nbformat_minor": 2
}
