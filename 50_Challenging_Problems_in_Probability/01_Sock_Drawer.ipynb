{
 "cells": [
  {
   "cell_type": "markdown",
   "metadata": {},
   "source": [
    "### Solution 1: The Sock Drawer"
   ]
  },
  {
   "cell_type": "markdown",
   "metadata": {},
   "source": [
    "(a) How small can the number of socks in the drawer be?"
   ]
  },
  {
   "cell_type": "code",
   "execution_count": 21,
   "metadata": {},
   "outputs": [
    {
     "name": "stdout",
     "output_type": "stream",
     "text": [
      "n = 4, r = 3\n"
     ]
    }
   ],
   "source": [
    "n = 3   # total number of socks (at least 3)\n",
    "r = 2   # min number of red socks (at least 2)\n",
    "p = 0   # initialize probability of drawing 2 red socks (without replacement)\n",
    "\n",
    "while True:\n",
    "    for r in range(2,r+1):\n",
    "        p = (r/n)*((r-1)/(n-1))\n",
    "        if p == 0.5:\n",
    "            break\n",
    "    if p == 0.5:\n",
    "        print(f'n = {n}, r = {r}')\n",
    "        break\n",
    "    n += 1\n",
    "    r += 1"
   ]
  },
  {
   "cell_type": "markdown",
   "metadata": {},
   "source": [
    "(b) How small if the number of black socks is even?"
   ]
  },
  {
   "cell_type": "code",
   "execution_count": 20,
   "metadata": {},
   "outputs": [
    {
     "name": "stdout",
     "output_type": "stream",
     "text": [
      "n = 21, r = 15\n"
     ]
    }
   ],
   "source": [
    "n = 3   # total number of socks (at least 3)\n",
    "r = 2   # min number of red socks (at least 2)\n",
    "p = 0   # initialize probability of drawing 2 red socks (without replacement)\n",
    "\n",
    "while True:\n",
    "    for r in range(2,r+1):\n",
    "        if (n-r)%2 == 0:\n",
    "            p = (r/n)*((r-1)/(n-1))\n",
    "            if p == 0.5:\n",
    "                break\n",
    "    if p == 0.5:\n",
    "        print(f'n = {n}, r = {r}')\n",
    "        break\n",
    "    n += 1\n",
    "    r += 1"
   ]
  }
 ],
 "metadata": {
  "kernelspec": {
   "display_name": "ml_projects",
   "language": "python",
   "name": "python3"
  },
  "language_info": {
   "codemirror_mode": {
    "name": "ipython",
    "version": 3
   },
   "file_extension": ".py",
   "mimetype": "text/x-python",
   "name": "python",
   "nbconvert_exporter": "python",
   "pygments_lexer": "ipython3",
   "version": "3.9.0"
  }
 },
 "nbformat": 4,
 "nbformat_minor": 2
}
