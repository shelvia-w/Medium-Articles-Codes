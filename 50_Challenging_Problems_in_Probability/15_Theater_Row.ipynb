{
 "cells": [
  {
   "cell_type": "markdown",
   "metadata": {},
   "source": [
    "### Theater Row"
   ]
  },
  {
   "cell_type": "code",
   "execution_count": 1,
   "metadata": {},
   "outputs": [],
   "source": [
    "import numpy as np\n",
    "from itertools import combinations"
   ]
  },
  {
   "cell_type": "code",
   "execution_count": 6,
   "metadata": {},
   "outputs": [
    {
     "name": "stdout",
     "output_type": "stream",
     "text": [
      "On the average, there are 7.47 pairs of adjacent seats ticketed for marriageable couples.\n"
     ]
    }
   ],
   "source": [
    "seat_number_list = np.arange(15)\n",
    "seat_female = np.array(['F']*15)    # assign all seats to female\n",
    "count = 0\n",
    "total = 0\n",
    "for arrangement in combinations(seat_number_list, 8):   # check for all possible combinations of where the males could be seated\n",
    "    total += 1\n",
    "    seat_arrangement = seat_female.copy()\n",
    "    seat_arrangement[np.array(arrangement)] = 'M'       # assign seats to male\n",
    "    for i in range(14):                                 # 14 possible pairs in total\n",
    "        pair = seat_arrangement[[i, i+1]]\n",
    "        if len(set(pair))==2:                           # marriageable pair: Male, Female or Female, Male\n",
    "            count += 1\n",
    "print(f'On the average, there are {count/total:.2f} pairs of adjacent seats ticketed for marriageable couples.')\n"
   ]
  },
  {
   "cell_type": "markdown",
   "metadata": {},
   "source": []
  }
 ],
 "metadata": {
  "kernelspec": {
   "display_name": "ml_projects",
   "language": "python",
   "name": "python3"
  },
  "language_info": {
   "codemirror_mode": {
    "name": "ipython",
    "version": 3
   },
   "file_extension": ".py",
   "mimetype": "text/x-python",
   "name": "python",
   "nbconvert_exporter": "python",
   "pygments_lexer": "ipython3",
   "version": "3.9.0"
  }
 },
 "nbformat": 4,
 "nbformat_minor": 2
}
