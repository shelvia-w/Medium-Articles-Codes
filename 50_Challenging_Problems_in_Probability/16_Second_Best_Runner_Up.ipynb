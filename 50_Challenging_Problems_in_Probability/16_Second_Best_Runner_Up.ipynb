{
 "cells": [
  {
   "cell_type": "markdown",
   "metadata": {},
   "source": [
    "### Will Second-Best Be Runner-Up?"
   ]
  },
  {
   "cell_type": "code",
   "execution_count": 1,
   "metadata": {},
   "outputs": [],
   "source": [
    "import numpy as np"
   ]
  },
  {
   "cell_type": "code",
   "execution_count": 3,
   "metadata": {},
   "outputs": [
    {
     "name": "stdout",
     "output_type": "stream",
     "text": [
      "The chance that the second-best player wins the runner-up cup is 0.571.\n"
     ]
    }
   ],
   "source": [
    "n_simulations = 100000\n",
    "count = 0\n",
    "\n",
    "for i in range(n_simulations):\n",
    "    a, b = np.random.choice(np.arange(1,9), 2, replace=False)\n",
    "    if min(a,b)<=4 and max(a,b)>=5:\n",
    "        count += 1\n",
    "\n",
    "print(f'The chance that the second-best player wins the runner-up cup is {count/n_simulations:.3f}.')"
   ]
  }
 ],
 "metadata": {
  "kernelspec": {
   "display_name": "ml_projects",
   "language": "python",
   "name": "python3"
  },
  "language_info": {
   "codemirror_mode": {
    "name": "ipython",
    "version": 3
   },
   "file_extension": ".py",
   "mimetype": "text/x-python",
   "name": "python",
   "nbconvert_exporter": "python",
   "pygments_lexer": "ipython3",
   "version": "3.9.0"
  }
 },
 "nbformat": 4,
 "nbformat_minor": 2
}
