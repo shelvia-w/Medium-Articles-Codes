{
 "cells": [
  {
   "cell_type": "markdown",
   "metadata": {},
   "source": [
    "### Catching the Cautious Counterfeiter"
   ]
  },
  {
   "cell_type": "code",
   "execution_count": 1,
   "metadata": {},
   "outputs": [],
   "source": [
    "import numpy as np"
   ]
  },
  {
   "cell_type": "code",
   "execution_count": 2,
   "metadata": {},
   "outputs": [
    {
     "name": "stdout",
     "output_type": "stream",
     "text": [
      "Probability of not finding false coin: 0.366.\n"
     ]
    }
   ],
   "source": [
    "n_simulations = 100000\n",
    "n = 100\n",
    "\n",
    "fake_coin = np.random.randint(n, size=(n_simulations, n))\n",
    "drawn_coin = np.random.randint(n, size=(n_simulations, n))\n",
    "found = np.sum(fake_coin == drawn_coin, axis=1)\n",
    "\n",
    "print(f\"Probability of not finding false coin: {np.mean(found == 0):.3f}.\")"
   ]
  },
  {
   "cell_type": "code",
   "execution_count": 6,
   "metadata": {},
   "outputs": [
    {
     "name": "stdout",
     "output_type": "stream",
     "text": [
      "Probability of not finding false coin: 0.368.\n",
      "1/e = 0.368\n"
     ]
    }
   ],
   "source": [
    "n_simulations = 100000\n",
    "n = 1000\n",
    "\n",
    "fake_coin = np.random.randint(n, size=(n_simulations, n))\n",
    "drawn_coin = np.random.randint(n, size=(n_simulations, n))\n",
    "found = np.sum(fake_coin == drawn_coin, axis=1)\n",
    "\n",
    "print(f\"Probability of not finding false coin: {np.mean(found == 0):.3f}.\")\n",
    "print(f\"1/e = {1/(np.exp(1)):.3f}\")"
   ]
  }
 ],
 "metadata": {
  "kernelspec": {
   "display_name": "ml_projects",
   "language": "python",
   "name": "python3"
  },
  "language_info": {
   "codemirror_mode": {
    "name": "ipython",
    "version": 3
   },
   "file_extension": ".py",
   "mimetype": "text/x-python",
   "name": "python",
   "nbconvert_exporter": "python",
   "pygments_lexer": "ipython3",
   "version": "3.9.0"
  }
 },
 "nbformat": 4,
 "nbformat_minor": 2
}
