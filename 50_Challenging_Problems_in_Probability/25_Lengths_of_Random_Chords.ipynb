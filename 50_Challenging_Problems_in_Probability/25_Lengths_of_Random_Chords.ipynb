{
 "cells": [
  {
   "cell_type": "markdown",
   "metadata": {},
   "source": [
    "### Lenghts of Random Chords"
   ]
  },
  {
   "cell_type": "code",
   "execution_count": 1,
   "metadata": {},
   "outputs": [],
   "source": [
    "import numpy as np"
   ]
  },
  {
   "cell_type": "code",
   "execution_count": 16,
   "metadata": {},
   "outputs": [
    {
     "name": "stdout",
     "output_type": "stream",
     "text": [
      "Prob. chord length exceeds radius = 0.66603\n"
     ]
    }
   ],
   "source": [
    "# Let the radius of the circle be 1, with center at (0,0)\n",
    "\n",
    "n_simulations = 100000\n",
    "\n",
    "# Pick one end of the chord\n",
    "random_angles_1 = np.random.uniform(0, 2*np.pi, size=n_simulations)\n",
    "x1 = np.cos(random_angles_1)\n",
    "y1 = np.sin(random_angles_1)\n",
    "\n",
    "\n",
    "# Pick the other one end of the chord\n",
    "random_angles_2 = np.random.uniform(0, 2*np.pi, size=n_simulations)\n",
    "x2 = np.cos(random_angles_2)\n",
    "y2 = np.sin(random_angles_2)\n",
    "\n",
    "# Calculate length of chord\n",
    "chord_lengths = np.sqrt((x2-x1)**2 + (y2-y1)**2)\n",
    "\n",
    "print(f'Prob. chord length exceeds radius = {np.mean(chord_lengths>1)}')"
   ]
  }
 ],
 "metadata": {
  "kernelspec": {
   "display_name": "ml_projects",
   "language": "python",
   "name": "python3"
  },
  "language_info": {
   "codemirror_mode": {
    "name": "ipython",
    "version": 3
   },
   "file_extension": ".py",
   "mimetype": "text/x-python",
   "name": "python",
   "nbconvert_exporter": "python",
   "pygments_lexer": "ipython3",
   "version": "3.9.0"
  }
 },
 "nbformat": 4,
 "nbformat_minor": 2
}
