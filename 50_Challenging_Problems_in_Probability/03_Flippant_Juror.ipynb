{
 "cells": [
  {
   "cell_type": "markdown",
   "metadata": {},
   "source": [
    "### Flippant Juror"
   ]
  },
  {
   "cell_type": "code",
   "execution_count": 1,
   "metadata": {},
   "outputs": [],
   "source": [
    "import numpy as np"
   ]
  },
  {
   "cell_type": "code",
   "execution_count": 2,
   "metadata": {},
   "outputs": [
    {
     "name": "stdout",
     "output_type": "stream",
     "text": [
      "p=0.1, P(three-man jury is correct)=0.1\n",
      "p=0.2, P(three-man jury is correct)=0.2\n",
      "p=0.3, P(three-man jury is correct)=0.3\n",
      "p=0.4, P(three-man jury is correct)=0.4\n",
      "p=0.5, P(three-man jury is correct)=0.5\n",
      "p=0.6, P(three-man jury is correct)=0.6\n",
      "p=0.7, P(three-man jury is correct)=0.7\n",
      "p=0.8, P(three-man jury is correct)=0.8\n",
      "p=0.9, P(three-man jury is correct)=0.9\n"
     ]
    }
   ],
   "source": [
    "n_trials = 10000000\n",
    "\n",
    "for n in range(1,10):\n",
    "    p = n/10\n",
    "    correct_1 = np.random.binomial(1, p, size = n_trials) # serious juror\n",
    "    correct_2 = np.random.binomial(1, p, size = n_trials) # serious juror\n",
    "    correct_3 = np.random.binomial(1, 0.5, size = n_trials) # flippant juror\n",
    "    \n",
    "    correct = ((correct_1 + correct_2 + correct_3)>=2).astype(int)\n",
    "    \n",
    "    print('p={}, P(three-man jury is correct)={}'.format(p, round(np.mean(correct),3)))"
   ]
  },
  {
   "cell_type": "code",
   "execution_count": null,
   "metadata": {},
   "outputs": [],
   "source": []
  }
 ],
 "metadata": {
  "kernelspec": {
   "display_name": "ml_projects",
   "language": "python",
   "name": "python3"
  },
  "language_info": {
   "codemirror_mode": {
    "name": "ipython",
    "version": 3
   },
   "file_extension": ".py",
   "mimetype": "text/x-python",
   "name": "python",
   "nbconvert_exporter": "python",
   "pygments_lexer": "ipython3",
   "version": "3.9.0"
  }
 },
 "nbformat": 4,
 "nbformat_minor": 2
}
