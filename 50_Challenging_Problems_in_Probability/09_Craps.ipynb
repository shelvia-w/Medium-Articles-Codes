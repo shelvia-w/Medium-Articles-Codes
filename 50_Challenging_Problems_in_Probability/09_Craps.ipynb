{
 "cells": [
  {
   "cell_type": "markdown",
   "metadata": {},
   "source": [
    "### Craps"
   ]
  },
  {
   "cell_type": "code",
   "execution_count": 1,
   "metadata": {},
   "outputs": [],
   "source": [
    "import numpy as np"
   ]
  },
  {
   "cell_type": "code",
   "execution_count": 2,
   "metadata": {},
   "outputs": [
    {
     "name": "stdout",
     "output_type": "stream",
     "text": [
      "Probability of winning : 0.494\n"
     ]
    }
   ],
   "source": [
    "n_simulations = 100000\n",
    "wins = 0\n",
    "for _ in range(n_simulations):\n",
    "    first_roll = np.random.randint(1, 7, size=2).sum()\n",
    "    if first_roll in [7, 11]:\n",
    "        wins += 1\n",
    "    elif first_roll in [2, 3, 12]:\n",
    "        continue\n",
    "    else:\n",
    "        while True:\n",
    "            next_roll = np.random.randint(1, 7, size=2).sum()\n",
    "            if next_roll == 7:\n",
    "                break\n",
    "            elif next_roll == first_roll:\n",
    "                wins += 1\n",
    "                break\n",
    "\n",
    "probability_of_winning = wins / n_simulations\n",
    "print(f'Probability of winning : {probability_of_winning:.3f}')"
   ]
  },
  {
   "cell_type": "code",
   "execution_count": null,
   "metadata": {},
   "outputs": [],
   "source": []
  }
 ],
 "metadata": {
  "kernelspec": {
   "display_name": "ml_projects",
   "language": "python",
   "name": "python3"
  },
  "language_info": {
   "codemirror_mode": {
    "name": "ipython",
    "version": 3
   },
   "file_extension": ".py",
   "mimetype": "text/x-python",
   "name": "python",
   "nbconvert_exporter": "python",
   "pygments_lexer": "ipython3",
   "version": "3.9.0"
  }
 },
 "nbformat": 4,
 "nbformat_minor": 2
}
