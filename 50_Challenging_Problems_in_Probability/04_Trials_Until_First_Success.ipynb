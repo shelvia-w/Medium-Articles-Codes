{
 "cells": [
  {
   "cell_type": "markdown",
   "metadata": {},
   "source": [
    "### Trials until First Success"
   ]
  },
  {
   "cell_type": "code",
   "execution_count": 1,
   "metadata": {},
   "outputs": [],
   "source": [
    "import numpy as np"
   ]
  },
  {
   "cell_type": "code",
   "execution_count": 2,
   "metadata": {},
   "outputs": [
    {
     "name": "stdout",
     "output_type": "stream",
     "text": [
      "Average no. of trials needed to get a 6 = 6\n"
     ]
    }
   ],
   "source": [
    "n_simulations = 10000\n",
    "n_first_success = 0\n",
    "\n",
    "for _ in range(n_simulations):\n",
    "    success = False\n",
    "    count = 0\n",
    "    while not success:\n",
    "        count += 1\n",
    "        roll = np.random.randint(1,7)\n",
    "        if roll == 6:\n",
    "            success = True\n",
    "    n_first_success += count\n",
    "\n",
    "print(f'Average no. of trials needed to get a 6 = {round(n_first_success/n_simulations)}')"
   ]
  },
  {
   "cell_type": "code",
   "execution_count": null,
   "metadata": {},
   "outputs": [],
   "source": []
  }
 ],
 "metadata": {
  "kernelspec": {
   "display_name": "ml_projects",
   "language": "python",
   "name": "python3"
  },
  "language_info": {
   "codemirror_mode": {
    "name": "ipython",
    "version": 3
   },
   "file_extension": ".py",
   "mimetype": "text/x-python",
   "name": "python",
   "nbconvert_exporter": "python",
   "pygments_lexer": "ipython3",
   "version": "3.9.0"
  }
 },
 "nbformat": 4,
 "nbformat_minor": 2
}
