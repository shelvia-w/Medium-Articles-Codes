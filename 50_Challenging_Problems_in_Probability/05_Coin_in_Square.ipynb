{
 "cells": [
  {
   "cell_type": "markdown",
   "metadata": {},
   "source": [
    "### Coin in Square"
   ]
  },
  {
   "cell_type": "code",
   "execution_count": 1,
   "metadata": {},
   "outputs": [],
   "source": [
    "import numpy as np"
   ]
  },
  {
   "cell_type": "code",
   "execution_count": 2,
   "metadata": {},
   "outputs": [
    {
     "name": "stdout",
     "output_type": "stream",
     "text": [
      "Probability of winning = 0.0625\n"
     ]
    }
   ],
   "source": [
    "n_simulations = 1000000\n",
    "total_win = 0\n",
    "\n",
    "for _ in range(n_simulations):\n",
    "    # Let the lower left corner of the square be the coordinate (0,0)\n",
    "    # Let the coordinate of the center of the coin be (x,y)\n",
    "    x, y = np.random.random(size=2)\n",
    "    # Center of the coin must NOT be within 3/8 inch of any side of the square.\n",
    "    if (x > 3/8) and (y > 3/8) and (1-x > 3/8) and (1-y > 3/8):\n",
    "        total_win += 1\n",
    "\n",
    "prob_win = total_win/n_simulations\n",
    "\n",
    "# 1/16 = 0.0625    \n",
    "print(f\"Probability of winning = {prob_win:.4f}\")\n"
   ]
  }
 ],
 "metadata": {
  "kernelspec": {
   "display_name": "ml_projects",
   "language": "python",
   "name": "python3"
  },
  "language_info": {
   "codemirror_mode": {
    "name": "ipython",
    "version": 3
   },
   "file_extension": ".py",
   "mimetype": "text/x-python",
   "name": "python",
   "nbconvert_exporter": "python",
   "pygments_lexer": "ipython3",
   "version": "3.9.0"
  }
 },
 "nbformat": 4,
 "nbformat_minor": 2
}
