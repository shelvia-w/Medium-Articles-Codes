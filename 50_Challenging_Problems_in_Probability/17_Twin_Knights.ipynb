{
 "cells": [
  {
   "cell_type": "markdown",
   "metadata": {},
   "source": [
    "### Twin Knights"
   ]
  },
  {
   "cell_type": "code",
   "execution_count": 3,
   "metadata": {},
   "outputs": [],
   "source": [
    "import numpy as np"
   ]
  },
  {
   "cell_type": "code",
   "execution_count": 11,
   "metadata": {},
   "outputs": [
    {
     "name": "stdout",
     "output_type": "stream",
     "text": [
      "The probability that the twins meet in a match during the tournament is 0.25.\n"
     ]
    }
   ],
   "source": [
    "n_simulations = 100000\n",
    "count = 0\n",
    "\n",
    "for _ in range(n_simulations):\n",
    "    num_balin, num_balan = np.random.choice(np.arange(1,9), 2, replace=False)\n",
    "    \n",
    "    # Check if they meet in the first round\n",
    "    sorted_pair = sorted([num_balin, num_balan])\n",
    "    if (sorted_pair==[1,2]) or (sorted_pair==[3,4]) or (sorted_pair==[5,6]) or (sorted_pair==[7,8]):\n",
    "        count += 1\n",
    "    \n",
    "    # Check if they meet in the second round\n",
    "    elif ((num_balin in [1,2,3,4]) & (num_balan in [1,2,3,4])) or ((num_balin in [5,6,7,8]) & (num_balan in [5,6,7,8])):\n",
    "        win_balin, win_balan = np.random.randint(0, 2, 2)\n",
    "        if win_balin == win_balan == 1:\n",
    "            count += 1\n",
    "\n",
    "    # Check if they meet in the finals\n",
    "    else:\n",
    "        win_balin1, win_balan1, win_balin2, win_balan2 = np.random.randint(0, 2, 4)\n",
    "        if win_balin1 == win_balan1 == win_balin2 == win_balan2 == 1:\n",
    "            count += 1\n",
    "\n",
    "print(f\"The probability that the twins meet in a match during the tournament is {count/n_simulations:.2f}.\")"
   ]
  }
 ],
 "metadata": {
  "kernelspec": {
   "display_name": "ml_projects",
   "language": "python",
   "name": "python3"
  },
  "language_info": {
   "codemirror_mode": {
    "name": "ipython",
    "version": 3
   },
   "file_extension": ".py",
   "mimetype": "text/x-python",
   "name": "python",
   "nbconvert_exporter": "python",
   "pygments_lexer": "ipython3",
   "version": "3.9.0"
  }
 },
 "nbformat": 4,
 "nbformat_minor": 2
}
