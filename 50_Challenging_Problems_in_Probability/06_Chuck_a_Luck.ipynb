{
 "cells": [
  {
   "cell_type": "code",
   "execution_count": 1,
   "metadata": {},
   "outputs": [],
   "source": [
    "import numpy as np"
   ]
  },
  {
   "cell_type": "code",
   "execution_count": 2,
   "metadata": {},
   "outputs": [
    {
     "name": "stdout",
     "output_type": "stream",
     "text": [
      "Expected loss per unit stake: 0.079\n"
     ]
    }
   ],
   "source": [
    "n_trials = 10000000\n",
    "choice = np.random.randint(1,7, size = (n_trials,1))\n",
    "rolls = np.random.randint(1,7, size = (n_trials, 3))\n",
    "count = np.sum(choice==rolls, axis=1)\n",
    "mean_loss = (np.sum(count==0) + (-1)*np.sum(count))/n_trials\n",
    "print(f'Expected loss per unit stake: {mean_loss:.3f}')"
   ]
  },
  {
   "cell_type": "code",
   "execution_count": null,
   "metadata": {},
   "outputs": [],
   "source": []
  }
 ],
 "metadata": {
  "kernelspec": {
   "display_name": "ml_projects",
   "language": "python",
   "name": "python3"
  },
  "language_info": {
   "codemirror_mode": {
    "name": "ipython",
    "version": 3
   },
   "file_extension": ".py",
   "mimetype": "text/x-python",
   "name": "python",
   "nbconvert_exporter": "python",
   "pygments_lexer": "ipython3",
   "version": "3.9.0"
  }
 },
 "nbformat": 4,
 "nbformat_minor": 2
}
