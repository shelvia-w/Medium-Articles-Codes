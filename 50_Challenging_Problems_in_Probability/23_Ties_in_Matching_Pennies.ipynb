{
 "cells": [
  {
   "cell_type": "code",
   "execution_count": 4,
   "metadata": {},
   "outputs": [],
   "source": [
    "from itertools import permutations\n",
    "import math"
   ]
  },
  {
   "cell_type": "code",
   "execution_count": 14,
   "metadata": {},
   "outputs": [
    {
     "name": "stdout",
     "output_type": "stream",
     "text": [
      "Probability of having no tie is 0.375.\n",
      "Probability of having no tie is 0.375.\n"
     ]
    }
   ],
   "source": [
    "N = 4\n",
    "tie = 0\n",
    "total = 0\n",
    "for n_a in range(N+1):\n",
    "    n_b = N-n_a\n",
    "    win_list = ['A']*n_a+['B']*n_b\n",
    "    all_sequences = set(list(permutations(win_list)))\n",
    "\n",
    "    for s in all_sequences:\n",
    "        a = 0\n",
    "        b = 0\n",
    "        for i in s:\n",
    "            if i == 'A':\n",
    "                a += 1\n",
    "            else:\n",
    "                b += 1\n",
    "            if a == b:\n",
    "                tie += 1\n",
    "                break\n",
    "        total += 1\n",
    "print(f'Probability of having no tie is {1-tie/total}.')\n",
    "print(f'Probability of having no tie is {math.comb(N,int(N/2))/2**N}.')\n",
    "        "
   ]
  },
  {
   "cell_type": "code",
   "execution_count": 13,
   "metadata": {},
   "outputs": [
    {
     "name": "stdout",
     "output_type": "stream",
     "text": [
      "Probability of having no tie is 0.375.\n",
      "Probability of having no tie is 0.375.\n"
     ]
    }
   ],
   "source": [
    "N = 5\n",
    "tie = 0\n",
    "total = 0\n",
    "for n_a in range(N+1):\n",
    "    n_b = N-n_a\n",
    "    win_list = ['A']*n_a+['B']*n_b\n",
    "    all_sequences = set(list(permutations(win_list)))\n",
    "\n",
    "    for s in all_sequences:\n",
    "        a = 0\n",
    "        b = 0\n",
    "        for i in s:\n",
    "            if i == 'A':\n",
    "                a += 1\n",
    "            else:\n",
    "                b += 1\n",
    "            if a == b:\n",
    "                tie += 1\n",
    "                break\n",
    "        total += 1\n",
    "print(f'Probability of having no tie is {1-tie/total}.')\n",
    "print(f'Probability of having no tie is {math.comb(N-1,int((N-1)/2))/2**(N-1)}.')\n",
    "        "
   ]
  }
 ],
 "metadata": {
  "kernelspec": {
   "display_name": "ml_projects",
   "language": "python",
   "name": "python3"
  },
  "language_info": {
   "codemirror_mode": {
    "name": "ipython",
    "version": 3
   },
   "file_extension": ".py",
   "mimetype": "text/x-python",
   "name": "python",
   "nbconvert_exporter": "python",
   "pygments_lexer": "ipython3",
   "version": "3.9.0"
  }
 },
 "nbformat": 4,
 "nbformat_minor": 2
}
