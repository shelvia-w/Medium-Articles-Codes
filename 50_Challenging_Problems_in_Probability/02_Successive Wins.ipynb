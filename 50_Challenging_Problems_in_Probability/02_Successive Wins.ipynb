{
 "cells": [
  {
   "cell_type": "markdown",
   "metadata": {},
   "source": [
    "### Successive Wins"
   ]
  },
  {
   "cell_type": "code",
   "execution_count": 1,
   "metadata": {},
   "outputs": [],
   "source": [
    "import numpy as np"
   ]
  },
  {
   "cell_type": "code",
   "execution_count": 2,
   "metadata": {},
   "outputs": [],
   "source": [
    "# play the series\n",
    "def play_series(p1, p2):\n",
    "    prob = [p1, p2, p1]\n",
    "    elmer_prob = np.random.rand(3)\n",
    "    elmer_wins = elmer_prob < prob\n",
    "    # check if Elmer wins at least two sets in a row\n",
    "    if elmer_wins[0] == 1 and elmer_wins[1] == 1:\n",
    "        return 1\n",
    "    elif elmer_wins[1] == 1 and elmer_wins[2] == 1:\n",
    "        return 1\n",
    "    else:\n",
    "        return 0"
   ]
  },
  {
   "cell_type": "code",
   "execution_count": 3,
   "metadata": {},
   "outputs": [
    {
     "name": "stdout",
     "output_type": "stream",
     "text": [
      "N = 10000, f = 0.9, c = 0.6\n",
      "Proportion of time Elmer won a prize in 10000 FCF simulation:  0.5934\n",
      "P[FCF]: 0.594\n",
      "Proportion of time Elmer won a prize in 10000 CFC simulation:  0.7519\n",
      "P[CFC]: 0.756 \n",
      "\n",
      "N = 10000, f = 0.9, c = 0.7\n",
      "Proportion of time Elmer won a prize in 10000 FCF simulation:  0.6943\n",
      "P[FCF]: 0.693\n",
      "Proportion of time Elmer won a prize in 10000 CFC simulation:  0.8141\n",
      "P[CFC]: 0.819 \n",
      "\n",
      "N = 10000, f = 0.9, c = 0.0\n",
      "Proportion of time Elmer won a prize in 10000 FCF simulation:  0.0\n",
      "P[FCF]: 0.000\n",
      "Proportion of time Elmer won a prize in 10000 CFC simulation:  0.0\n",
      "P[CFC]: 0.000\n"
     ]
    }
   ],
   "source": [
    "N, f, c = 10000, 0.9, 0.6\n",
    "print(f'N = {N}, f = {f}, c = {c}')\n",
    "# Simulating FCF Series\n",
    "print(f'Proportion of time Elmer won a prize in {N} FCF simulation: ', np.mean([play_series(f,c) for _ in range(N)]))\n",
    "total_prob = (2-f)*f*c\n",
    "print(f'P[FCF]: {total_prob:.3f}')\n",
    "# Simulating CFC Series\n",
    "print(f'Proportion of time Elmer won a prize in {N} CFC simulation: ', np.mean([play_series(c,f) for _ in range(N)]))\n",
    "total_prob = (2-c)*c*f\n",
    "print(f'P[CFC]: {total_prob:.3f} \\n')\n",
    "\n",
    "N, f, c = 10000, 0.9, 0.7\n",
    "print(f'N = {N}, f = {f}, c = {c}')\n",
    "# Simulating FCF Series\n",
    "print(f'Proportion of time Elmer won a prize in {N} FCF simulation: ', np.mean([play_series(f,c) for _ in range(N)]))\n",
    "total_prob = (2-f)*f*c\n",
    "print(f'P[FCF]: {total_prob:.3f}')\n",
    "# Simulating CFC Series\n",
    "print(f'Proportion of time Elmer won a prize in {N} CFC simulation: ', np.mean([play_series(c,f) for _ in range(N)]))\n",
    "total_prob = (2-c)*c*f\n",
    "print(f'P[CFC]: {total_prob:.3f} \\n')\n",
    "\n",
    "N, f, c = 10000, 0.9, 0.\n",
    "print(f'N = {N}, f = {f}, c = {c}')\n",
    "# Simulating FCF Series\n",
    "print(f'Proportion of time Elmer won a prize in {N} FCF simulation: ', np.mean([play_series(f,c) for _ in range(N)]))\n",
    "total_prob = (2-f)*f*c\n",
    "print(f'P[FCF]: {total_prob:.3f}')\n",
    "# Simulating CFC Series\n",
    "print(f'Proportion of time Elmer won a prize in {N} CFC simulation: ', np.mean([play_series(c,f) for _ in range(N)]))\n",
    "total_prob = (2-c)*c*f\n",
    "print(f'P[CFC]: {total_prob:.3f}')"
   ]
  },
  {
   "cell_type": "code",
   "execution_count": null,
   "metadata": {},
   "outputs": [],
   "source": []
  }
 ],
 "metadata": {
  "kernelspec": {
   "display_name": "ml_projects",
   "language": "python",
   "name": "python3"
  },
  "language_info": {
   "codemirror_mode": {
    "name": "ipython",
    "version": 3
   },
   "file_extension": ".py",
   "mimetype": "text/x-python",
   "name": "python",
   "nbconvert_exporter": "python",
   "pygments_lexer": "ipython3",
   "version": "3.9.0"
  }
 },
 "nbformat": 4,
 "nbformat_minor": 2
}
