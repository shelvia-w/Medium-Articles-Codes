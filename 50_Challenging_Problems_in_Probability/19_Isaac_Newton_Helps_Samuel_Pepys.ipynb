{
 "cells": [
  {
   "cell_type": "markdown",
   "metadata": {},
   "source": [
    "### Isaac Newton Helps Samuel Pepys"
   ]
  },
  {
   "cell_type": "code",
   "execution_count": 1,
   "metadata": {},
   "outputs": [],
   "source": [
    "import numpy as np"
   ]
  },
  {
   "cell_type": "markdown",
   "metadata": {},
   "source": [
    "Find the probability that a person get at least 1 six when 6 dice are rolled:"
   ]
  },
  {
   "cell_type": "code",
   "execution_count": 6,
   "metadata": {},
   "outputs": [
    {
     "name": "stdout",
     "output_type": "stream",
     "text": [
      "The probability of geting at least 1 six when 6 dice are rolled is 0.665.\n"
     ]
    }
   ],
   "source": [
    "n_simulations = 100000\n",
    "count = 0\n",
    "for _ in range(n_simulations):\n",
    "    rolls = np.random.randint(1,7,6)\n",
    "    n_six = (rolls == 6).sum()\n",
    "    if n_six >= 1:\n",
    "        count += 1\n",
    "print(f\"The probability of geting at least 1 six when 6 dice are rolled is {count/n_simulations:.3f}.\")"
   ]
  },
  {
   "cell_type": "markdown",
   "metadata": {},
   "source": [
    "Find the probability that a person get at least 2 sixes when 12 dice are rolled:"
   ]
  },
  {
   "cell_type": "code",
   "execution_count": 7,
   "metadata": {},
   "outputs": [
    {
     "name": "stdout",
     "output_type": "stream",
     "text": [
      "The probability of geting at least 2 sixes when 12 dice are rolled is 0.619.\n"
     ]
    }
   ],
   "source": [
    "n_simulations = 100000\n",
    "count = 0\n",
    "for _ in range(n_simulations):\n",
    "    rolls = np.random.randint(1,7,12)\n",
    "    n_six = (rolls == 6).sum()\n",
    "    if n_six >= 2:\n",
    "        count += 1\n",
    "print(f\"The probability of geting at least 2 sixes when 12 dice are rolled is {count/n_simulations:.3f}.\")"
   ]
  },
  {
   "cell_type": "markdown",
   "metadata": {},
   "source": [
    "Find the probability that a person get at least 3 sixes when 18 dice are rolled:"
   ]
  },
  {
   "cell_type": "code",
   "execution_count": 8,
   "metadata": {},
   "outputs": [
    {
     "name": "stdout",
     "output_type": "stream",
     "text": [
      "The probability of geting at least 3 sixes when 18 dice are rolled is 0.597.\n"
     ]
    }
   ],
   "source": [
    "n_simulations = 100000\n",
    "count = 0\n",
    "for _ in range(n_simulations):\n",
    "    rolls = np.random.randint(1,7,18)\n",
    "    n_six = (rolls == 6).sum()\n",
    "    if n_six >= 3:\n",
    "        count += 1\n",
    "print(f\"The probability of geting at least 3 sixes when 18 dice are rolled is {count/n_simulations:.3f}.\")"
   ]
  }
 ],
 "metadata": {
  "kernelspec": {
   "display_name": "ml_projects",
   "language": "python",
   "name": "python3"
  },
  "language_info": {
   "codemirror_mode": {
    "name": "ipython",
    "version": 3
   },
   "file_extension": ".py",
   "mimetype": "text/x-python",
   "name": "python",
   "nbconvert_exporter": "python",
   "pygments_lexer": "ipython3",
   "version": "3.9.0"
  }
 },
 "nbformat": 4,
 "nbformat_minor": 2
}
