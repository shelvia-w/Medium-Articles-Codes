{
 "cells": [
  {
   "cell_type": "markdown",
   "metadata": {},
   "source": [
    "### An Even Split at Coin Tossing"
   ]
  },
  {
   "cell_type": "code",
   "execution_count": 1,
   "metadata": {},
   "outputs": [],
   "source": [
    "import numpy as np"
   ]
  },
  {
   "cell_type": "code",
   "execution_count": 6,
   "metadata": {},
   "outputs": [
    {
     "name": "stdout",
     "output_type": "stream",
     "text": [
      "The prob. that exactly 50 out of the 100-coin tosses are heads is 0.080.\n"
     ]
    }
   ],
   "source": [
    "n_simulations = 100000\n",
    "count = 0\n",
    "\n",
    "for _ in range(n_simulations):\n",
    "    heads = sum(np.random.choice(2,100))\n",
    "    if heads == 50:\n",
    "        count += 1\n",
    "\n",
    "print(f\"The prob. that exactly 50 out of the 100-coin tosses are heads is {count/n_simulations:.3f}.\")\n",
    "    "
   ]
  }
 ],
 "metadata": {
  "kernelspec": {
   "display_name": "ml_projects",
   "language": "python",
   "name": "python3"
  },
  "language_info": {
   "codemirror_mode": {
    "name": "ipython",
    "version": 3
   },
   "file_extension": ".py",
   "mimetype": "text/x-python",
   "name": "python",
   "nbconvert_exporter": "python",
   "pygments_lexer": "ipython3",
   "version": "3.9.0"
  }
 },
 "nbformat": 4,
 "nbformat_minor": 2
}
