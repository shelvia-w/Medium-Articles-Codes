{
 "cells": [
  {
   "cell_type": "markdown",
   "metadata": {},
   "source": [
    "### Curing the Compulsive Gambler"
   ]
  },
  {
   "cell_type": "code",
   "execution_count": 3,
   "metadata": {},
   "outputs": [],
   "source": [
    "import numpy as np"
   ]
  },
  {
   "cell_type": "code",
   "execution_count": 20,
   "metadata": {},
   "outputs": [
    {
     "name": "stdout",
     "output_type": "stream",
     "text": [
      "Total expected payoffs for Mr. Brown: 2.80\n"
     ]
    }
   ],
   "source": [
    "n_trials = 10000000\n",
    "roulette_win_count = np.random.binomial(36, 1/38, size=n_trials)\n",
    "kind_friend_win_count = (roulette_win_count > 0).astype(int)\n",
    "payoffs_from_roulette = (-36 + roulette_win_count) + (35*roulette_win_count)\n",
    "payoffs_from_kind_friend = 20*kind_friend_win_count - 20*(1-kind_friend_win_count)\n",
    "total_expected_payoffs = np.mean(payoffs_from_roulette + payoffs_from_kind_friend)\n",
    "print(f'Total expected payoffs for Mr. Brown: {total_expected_payoffs:.2f}')"
   ]
  },
  {
   "cell_type": "code",
   "execution_count": null,
   "metadata": {},
   "outputs": [],
   "source": []
  }
 ],
 "metadata": {
  "kernelspec": {
   "display_name": "ml_projects",
   "language": "python",
   "name": "python3"
  },
  "language_info": {
   "codemirror_mode": {
    "name": "ipython",
    "version": 3
   },
   "file_extension": ".py",
   "mimetype": "text/x-python",
   "name": "python",
   "nbconvert_exporter": "python",
   "pygments_lexer": "ipython3",
   "version": "3.9.0"
  }
 },
 "nbformat": 4,
 "nbformat_minor": 2
}
