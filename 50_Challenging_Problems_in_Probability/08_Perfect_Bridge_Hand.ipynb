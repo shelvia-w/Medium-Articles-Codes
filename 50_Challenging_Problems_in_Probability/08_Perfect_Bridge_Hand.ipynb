{
 "cells": [
  {
   "cell_type": "markdown",
   "metadata": {},
   "source": [
    "### Perfect Bridge Hand"
   ]
  },
  {
   "cell_type": "code",
   "execution_count": 1,
   "metadata": {},
   "outputs": [],
   "source": [
    "import numpy as np"
   ]
  },
  {
   "cell_type": "code",
   "execution_count": 2,
   "metadata": {},
   "outputs": [
    {
     "name": "stdout",
     "output_type": "stream",
     "text": [
      "Probability of a perfect hand: 0.000\n"
     ]
    }
   ],
   "source": [
    "n_simulations = 1000000\n",
    "\n",
    "perfect_hand_count = 0\n",
    "for _ in range(n_simulations):\n",
    "    deck = np.arange(52)\n",
    "    np.random.shuffle(deck)\n",
    "    player_hand = deck[:13]\n",
    "    suits = player_hand // 13\n",
    "    if np.all(suits == suits[0]):\n",
    "        perfect_hand_count += 1\n",
    "\n",
    "probability = perfect_hand_count / n_simulations\n",
    "\n",
    "print(f'Probability of a perfect hand: {probability:.3f}') # Even after 1 million simulations, the probability of being dealt a perfect hand is still 0."
   ]
  }
 ],
 "metadata": {
  "kernelspec": {
   "display_name": "ml_projects",
   "language": "python",
   "name": "python3"
  },
  "language_info": {
   "codemirror_mode": {
    "name": "ipython",
    "version": 3
   },
   "file_extension": ".py",
   "mimetype": "text/x-python",
   "name": "python",
   "nbconvert_exporter": "python",
   "pygments_lexer": "ipython3",
   "version": "3.9.0"
  }
 },
 "nbformat": 4,
 "nbformat_minor": 2
}
